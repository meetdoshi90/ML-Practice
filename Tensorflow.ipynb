{
 "cells": [
  {
   "cell_type": "code",
   "execution_count": 1,
   "id": "28038bd3",
   "metadata": {},
   "outputs": [
    {
     "name": "stdout",
     "output_type": "stream",
     "text": [
      "Requirement already satisfied: mitdeeplearning in c:\\users\\meetd\\anaconda3\\lib\\site-packages (0.2.0)\n",
      "Requirement already satisfied: regex in c:\\users\\meetd\\anaconda3\\lib\\site-packages (from mitdeeplearning) (2021.4.4)\n",
      "Requirement already satisfied: tqdm in c:\\users\\meetd\\anaconda3\\lib\\site-packages (from mitdeeplearning) (4.59.0)\n",
      "Requirement already satisfied: gym in c:\\users\\meetd\\anaconda3\\lib\\site-packages (from mitdeeplearning) (0.18.3)\n",
      "Requirement already satisfied: numpy in c:\\users\\meetd\\anaconda3\\lib\\site-packages (from mitdeeplearning) (1.19.5)\n",
      "Requirement already satisfied: Pillow<=8.2.0 in c:\\users\\meetd\\anaconda3\\lib\\site-packages (from gym->mitdeeplearning) (8.2.0)\n",
      "Requirement already satisfied: cloudpickle<1.7.0,>=1.2.0 in c:\\users\\meetd\\anaconda3\\lib\\site-packages (from gym->mitdeeplearning) (1.6.0)\n",
      "Requirement already satisfied: pyglet<=1.5.15,>=1.4.0 in c:\\users\\meetd\\anaconda3\\lib\\site-packages (from gym->mitdeeplearning) (1.5.15)\n",
      "Requirement already satisfied: scipy in c:\\users\\meetd\\anaconda3\\lib\\site-packages (from gym->mitdeeplearning) (1.6.2)\n"
     ]
    }
   ],
   "source": [
    "!pip install mitdeeplearning\n",
    "import tensorflow as tf\n",
    "import mitdeeplearning as mdl\n",
    "import numpy as np\n",
    "import matplotlib.pyplot as plt"
   ]
  },
  {
   "cell_type": "code",
   "execution_count": 2,
   "id": "ef597e0a",
   "metadata": {},
   "outputs": [
    {
     "name": "stdout",
     "output_type": "stream",
     "text": [
      "Sport is a 0-d Tensor\n",
      "Number is a 0-d Tensor\n"
     ]
    }
   ],
   "source": [
    "sport = tf.constant(\"Tennis\", tf.string)\n",
    "number = tf.constant(1.41421356237, tf.float64)\n",
    "print(\"Sport is a {}-d Tensor\".format(tf.rank(sport)))\n",
    "print(\"Number is a {}-d Tensor\".format(tf.rank(number)))"
   ]
  },
  {
   "cell_type": "code",
   "execution_count": 3,
   "id": "72f91c4d",
   "metadata": {},
   "outputs": [
    {
     "name": "stdout",
     "output_type": "stream",
     "text": [
      "Sport is a 1-d Tensor\n",
      "Number is a 1-d Tensor\n"
     ]
    }
   ],
   "source": [
    "sport = tf.constant([\"Tennis\",\"Basketball\"], tf.string)\n",
    "number = tf.constant([1.41421356237, 3.6574336, 1.4224245], tf.float64)\n",
    "print(\"Sport is a {}-d Tensor\".format(tf.rank(sport)))\n",
    "print(\"Number is a {}-d Tensor\".format(tf.rank(number)))"
   ]
  },
  {
   "cell_type": "code",
   "execution_count": 4,
   "id": "265ee920",
   "metadata": {},
   "outputs": [],
   "source": [
    "matrix = tf.constant([[1.0,2.0,3.0,4.0],[5.0,6.0,7.0,8.0]])\n",
    "assert isinstance(matrix,tf.Tensor), \"matrix must be a tf Tensor object\"\n",
    "assert tf.rank(matrix).numpy() == 2"
   ]
  },
  {
   "cell_type": "code",
   "execution_count": 5,
   "id": "6a170ab3",
   "metadata": {},
   "outputs": [],
   "source": [
    "images = tf.zeros([10,256,256,3])\n",
    "assert isinstance(images, tf.Tensor), \"matrix must be a tf Tensor object\"\n",
    "assert tf.rank(images) == 4, \"matrix must be of rank 4\"\n",
    "assert tf.shape(images).numpy().tolist() == [10,256,256,3], \"matrix is incorrect shape\""
   ]
  },
  {
   "cell_type": "code",
   "execution_count": 6,
   "id": "310334d5",
   "metadata": {},
   "outputs": [
    {
     "name": "stdout",
     "output_type": "stream",
     "text": [
      "Row_vector: [5. 6. 7. 8.]\n",
      "Column_vector: [3. 7.]\n",
      "Scalar_vector: 7.0\n"
     ]
    }
   ],
   "source": [
    "row_vector = matrix[1]\n",
    "column_vector = matrix[:,2]\n",
    "scalar = matrix[1,2]\n",
    "print(\"Row_vector: {}\".format(row_vector.numpy()))\n",
    "print(\"Column_vector: {}\".format(column_vector.numpy()))\n",
    "print(\"Scalar_vector: {}\".format(scalar.numpy()))"
   ]
  },
  {
   "cell_type": "code",
   "execution_count": 7,
   "id": "756461e7",
   "metadata": {},
   "outputs": [
    {
     "name": "stdout",
     "output_type": "stream",
     "text": [
      "tf.Tensor(78, shape=(), dtype=int32) tf.Tensor(78, shape=(), dtype=int32)\n"
     ]
    }
   ],
   "source": [
    "a = tf.constant(15)\n",
    "b = tf.constant(63)\n",
    "c1 = tf.add(a,b)\n",
    "c2 = a + b\n",
    "print(c1,c2)"
   ]
  },
  {
   "cell_type": "code",
   "execution_count": 8,
   "id": "46022ef6",
   "metadata": {},
   "outputs": [],
   "source": [
    "class DenseLayer(tf.keras.layers.Layer):\n",
    "    def __init__(self, n_output_nodes):\n",
    "        super(DenseLayer,self).__init__()\n",
    "        self.n_output_nodes = n_output_nodes\n",
    "    \n",
    "    def build(self, input_shape):\n",
    "        d = int(input_shape[-1])\n",
    "        self.W = self.add_weight(\"weight\", shape=[d, self.n_output_nodes])\n",
    "        self.b = self.add_weight(\"bias\", shape=[1, self.n_output_nodes])\n",
    "        print(self.W.shape, self.b.shape)\n",
    "    \n",
    "    def call(self,x):\n",
    "        z = tf.matmul(x,self.W) + self.b\n",
    "        y = tf.sigmoid(z)\n",
    "        return y\n"
   ]
  },
  {
   "cell_type": "code",
   "execution_count": 9,
   "id": "4b831875",
   "metadata": {},
   "outputs": [
    {
     "name": "stdout",
     "output_type": "stream",
     "text": [
      "<__main__.DenseLayer object at 0x000001873A934430>\n",
      "(2, 3) (1, 3)\n",
      "<__main__.DenseLayer object at 0x000001873A934430>\n",
      "[[0.26978594 0.45750415 0.66536945]]\n",
      "[PASS] test_custom_dense_layer_output\n"
     ]
    },
    {
     "data": {
      "text/plain": [
       "True"
      ]
     },
     "execution_count": 9,
     "metadata": {},
     "output_type": "execute_result"
    }
   ],
   "source": [
    "tf.random.set_seed(1)\n",
    "layer = DenseLayer(3)\n",
    "print(layer)\n",
    "layer.build((1,2))\n",
    "print(layer)\n",
    "x_input = tf.constant([[1,2.]], shape=(1,2))\n",
    "y = layer.call(x_input)\n",
    "print(y.numpy())\n",
    "mdl.lab1.test_custom_dense_layer_output(y)"
   ]
  },
  {
   "cell_type": "code",
   "execution_count": 10,
   "id": "71aa8d97",
   "metadata": {},
   "outputs": [],
   "source": [
    "from tensorflow.keras import Sequential\n",
    "from tensorflow.keras.layers import Dense\n",
    "n_output_nodes = 3\n",
    "model = Sequential()\n",
    "dense_layer = Dense(n_output_nodes, activation='sigmoid')\n",
    "model.add(dense_layer)"
   ]
  },
  {
   "cell_type": "code",
   "execution_count": 11,
   "id": "23a304f6",
   "metadata": {},
   "outputs": [
    {
     "name": "stdout",
     "output_type": "stream",
     "text": [
      "[[0.5607363  0.65668976 0.12496966]]\n"
     ]
    }
   ],
   "source": [
    "x_input = tf.constant([[1,2.]],shape=(1,2))\n",
    "model_output = model(x_input).numpy()\n",
    "print(model_output)"
   ]
  },
  {
   "cell_type": "code",
   "execution_count": 13,
   "id": "9d3f686b",
   "metadata": {},
   "outputs": [],
   "source": [
    "x =tf.Variable(3.0)\n",
    "with tf.GradientTape() as tape:\n",
    "    y = x * x\n",
    "dy_by_dx = tape.gradient(y,x)\n",
    "assert dy_by_dx.numpy() == 6.0"
   ]
  },
  {
   "cell_type": "code",
   "execution_count": 18,
   "id": "0d9dd212",
   "metadata": {},
   "outputs": [
    {
     "name": "stdout",
     "output_type": "stream",
     "text": [
      "Initializing x=[[-0.35975078]]\n"
     ]
    },
    {
     "data": {
      "text/plain": [
       "Text(0, 0.5, 'x value')"
      ]
     },
     "execution_count": 18,
     "metadata": {},
     "output_type": "execute_result"
    },
    {
     "data": {
      "image/png": "[encoded data removed]",
      "text/plain": [
       "<Figure size 432x288 with 1 Axes>"
      ]
     },
     "metadata": {
      "needs_background": "light"
     },
     "output_type": "display_data"
    }
   ],
   "source": [
    "x = tf.Variable([tf.random.normal([1])])\n",
    "print(\"Initializing x={}\".format(x.numpy()))\n",
    "learning_rate = 1e-2 \n",
    "history = []\n",
    "x_f = 4\n",
    "for i in range(500):\n",
    "    with tf.GradientTape() as tape:\n",
    "        loss = (x - x_f)**2 \n",
    "    grad = tape.gradient(loss, x)\n",
    "    new_x = x - learning_rate*grad \n",
    "    x.assign(new_x) \n",
    "    history.append(x.numpy()[0])\n",
    "\n",
    "plt.plot(history)\n",
    "plt.plot([0, 500],[x_f,x_f])\n",
    "plt.legend(('Predicted', 'True'))\n",
    "plt.xlabel('Iteration')\n",
    "plt.ylabel('x value')"
   ]
  },
  {
   "cell_type": "code",
   "execution_count": null,
   "id": "f4bde3d9",
   "metadata": {},
   "outputs": [],
   "source": []
  }
 ],
 "metadata": {
  "kernelspec": {
   "display_name": "Python 3",
   "language": "python",
   "name": "python3"
  },
  "language_info": {
   "codemirror_mode": {
    "name": "ipython",
    "version": 3
   },
   "file_extension": ".py",
   "mimetype": "text/x-python",
   "name": "python",
   "nbconvert_exporter": "python",
   "pygments_lexer": "ipython3",
   "version": "3.8.3"
  }
 },
 "nbformat": 4,
 "nbformat_minor": 5
}
