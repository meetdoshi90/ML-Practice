{
 "cells": [
  {
   "cell_type": "code",
   "execution_count": 1,
   "id": "fb09ab52",
   "metadata": {},
   "outputs": [],
   "source": [
    "import numpy as np\n",
    "import h5py\n",
    "import matplotlib.pyplot as plt\n",
    "from testCases_v4 import *\n",
    "from dnn_utils import sigmoid, sigmoid_backward, relu, relu_backward\n",
    "plt.rcParams['figure.figsize'] = (5.0, 4.0) # set default size of plots\n",
    "plt.rcParams['image.interpolation'] = 'nearest'\n",
    "plt.rcParams['image.cmap'] = 'gray'\n",
    "\n",
    "%load_ext autoreload\n",
    "%autoreload 2\n",
    "\n",
    "np.random.seed(1)"
   ]
  },
  {
   "cell_type": "code",
   "execution_count": 2,
   "id": "8525ad80",
   "metadata": {},
   "outputs": [],
   "source": [
    "def initialize_parameters(n_x,n_h,n_y):\n",
    "    np.random.seed(1)\n",
    "    w1 = np.random.randn(n_h,n_x) * 0.01\n",
    "    b1 = np.zeros(shape=(n_h,1))\n",
    "    w2 = np.random.randn(n_y,n_h) * 0.01\n",
    "    b2 = np.zeros(shape=(n_y,1))\n",
    "    parameters = {\"w1\": w1,\n",
    "                  \"w2\": w2,\n",
    "                  \"b1\": b1,\n",
    "                  \"b2\": b2}\n",
    "    return parameters"
   ]
  },
  {
   "cell_type": "code",
   "execution_count": 3,
   "id": "dd7558e8",
   "metadata": {},
   "outputs": [
    {
     "name": "stdout",
     "output_type": "stream",
     "text": [
      "W1 = [[ 0.01624345 -0.00611756]\n",
      " [-0.00528172 -0.01072969]]\n",
      "W2 = [[ 0.00865408 -0.02301539]]\n",
      "b1 = [[0.]\n",
      " [0.]]\n",
      "b2 = [[0.]]\n"
     ]
    }
   ],
   "source": [
    "parameters = initialize_parameters(2,2,1)\n",
    "print(\"W1 = \" + str(parameters[\"w1\"]))\n",
    "print(\"W2 = \" + str(parameters[\"w2\"]))\n",
    "print(\"b1 = \" + str(parameters[\"b1\"]))\n",
    "print(\"b2 = \" + str(parameters[\"b2\"]))"
   ]
  },
  {
   "cell_type": "code",
   "execution_count": 4,
   "id": "f05a90f1",
   "metadata": {},
   "outputs": [],
   "source": [
    "def initialize_parameters_deep(layer_dims):\n",
    "    np.random.seed(3)\n",
    "    parameters = {}\n",
    "    L = len(layer_dims)\n",
    "    for l in range(1,L):\n",
    "        parameters[\"w\"+str(l)] = np.random.randn(layer_dims[1], layer_dims[l-1]) * 0.01\n",
    "        parameters[\"b\"+str(l)] = np.zeros((layer_dims[l],1))\n",
    "    return parameters"
   ]
  },
  {
   "cell_type": "code",
   "execution_count": 5,
   "id": "2beab661",
   "metadata": {},
   "outputs": [
    {
     "name": "stdout",
     "output_type": "stream",
     "text": [
      "W1 = [[ 0.01788628  0.0043651   0.00096497 -0.01863493 -0.00277388]\n",
      " [-0.00354759 -0.00082741 -0.00627001 -0.00043818 -0.00477218]\n",
      " [-0.01313865  0.00884622  0.00881318  0.01709573  0.00050034]\n",
      " [-0.00404677 -0.0054536  -0.01546477  0.00982367 -0.01101068]]\n",
      "W2 = [[-0.01185047 -0.0020565   0.01486148  0.00236716]\n",
      " [-0.01023785 -0.00712993  0.00625245 -0.00160513]\n",
      " [-0.00768836 -0.00230031  0.00745056  0.01976111]\n",
      " [-0.01244123 -0.00626417 -0.00803766 -0.02419083]]\n",
      "b1 = [[0.]\n",
      " [0.]\n",
      " [0.]\n",
      " [0.]]\n",
      "b2 = [[0.]\n",
      " [0.]\n",
      " [0.]]\n"
     ]
    }
   ],
   "source": [
    "parameters = initialize_parameters_deep([5,4,3])\n",
    "print(\"W1 = \" + str(parameters[\"w1\"]))\n",
    "print(\"W2 = \" + str(parameters[\"w2\"]))\n",
    "print(\"b1 = \" + str(parameters[\"b1\"]))\n",
    "print(\"b2 = \" + str(parameters[\"b2\"]))"
   ]
  },
  {
   "cell_type": "code",
   "execution_count": 6,
   "id": "727b6c65",
   "metadata": {},
   "outputs": [],
   "source": [
    "def linear_forward(a,w,b):\n",
    "    z = np.dot(w,a) + b\n",
    "    cache = (a,w,b)\n",
    "    return z, cache"
   ]
  },
  {
   "cell_type": "code",
   "execution_count": 7,
   "id": "825536bf",
   "metadata": {},
   "outputs": [
    {
     "name": "stdout",
     "output_type": "stream",
     "text": [
      "z = [[ 3.26295337 -1.23429987]]\n"
     ]
    }
   ],
   "source": [
    "a,w,b = linear_forward_test_case()\n",
    "z,linear_cache = linear_forward(a,w,b)\n",
    "print(\"z = \" + str(z))"
   ]
  },
  {
   "cell_type": "code",
   "execution_count": 8,
   "id": "bae84723",
   "metadata": {},
   "outputs": [],
   "source": [
    "def linear_activation_forward(a_prev, w, b, activation):\n",
    "    if activation == \"sigmoid\":\n",
    "        z, linear_cache = linear_forward(a_prev,w,b)\n",
    "        a, activation_cache = sigmoid(z)\n",
    "    elif activation == \"relu\":\n",
    "        z, linear_cache = linear_forward(a_prev,w,b)\n",
    "        a, activation_cache = relu(z)\n",
    "    cache = (linear_cache, activation_cache)\n",
    "    return a, cache"
   ]
  },
  {
   "cell_type": "code",
   "execution_count": 9,
   "id": "60e7f730",
   "metadata": {},
   "outputs": [
    {
     "name": "stdout",
     "output_type": "stream",
     "text": [
      "With sigmoid: a = [[0.96890023 0.11013289]]\n",
      "With ReLU: a = [[3.43896131 0.        ]]\n"
     ]
    }
   ],
   "source": [
    "a_prev, w,b = linear_activation_forward_test_case()\n",
    "a, linear_activation_cache = linear_activation_forward(a_prev, w, b,activation=\"sigmoid\")\n",
    "print(\"With sigmoid: a = \"+ str(a))\n",
    "a, linear_activation_cache = linear_activation_forward(a_prev, w, b,activation=\"relu\")\n",
    "print(\"With ReLU: a = \"+ str(a))\n"
   ]
  },
  {
   "cell_type": "code",
   "execution_count": 10,
   "id": "ef14c610",
   "metadata": {},
   "outputs": [],
   "source": [
    "def L_model_forward(x, parameters):\n",
    "    caches = []\n",
    "    a = x\n",
    "    L = len(parameters) // 2\n",
    "    for l in range(1,L):\n",
    "        a_prev = a\n",
    "        a, cache = linear_activation_forward(a_prev,\n",
    "                                             parameters[\"W\" + str(l)],\n",
    "                                             parameters[\"b\" + str(l)],\n",
    "                                             activation='relu')\n",
    "        caches.append(cache)\n",
    "        \n",
    "    al, cache = linear_activation_forward(a,\n",
    "                                          parameters[\"W\" + str(L)],\n",
    "                                          parameters[\"b\" + str(L)],\n",
    "                                          activation=\"sigmoid\")\n",
    "    caches.append(cache)\n",
    "    return al, caches"
   ]
  },
  {
   "cell_type": "code",
   "execution_count": 11,
   "id": "78641789",
   "metadata": {},
   "outputs": [
    {
     "name": "stdout",
     "output_type": "stream",
     "text": [
      "AL = [[0.17007265 0.2524272 ]]\n",
      "Length of caches list = 2\n"
     ]
    }
   ],
   "source": [
    "x, parameters = L_model_forward_test_case()\n",
    "al, caches = L_model_forward(x, parameters)\n",
    "print(\"AL = \" + str(al))\n",
    "print(\"Length of caches list = \"+ str(len(caches)))"
   ]
  },
  {
   "cell_type": "code",
   "execution_count": 12,
   "id": "6934f429",
   "metadata": {},
   "outputs": [],
   "source": [
    "def compute_cost(al ,y):\n",
    "    m = y.shape[1]\n",
    "    cost = (-1/m) * np.sum(np.multiply(y,np.log(al)) + np.multiply(1-y, np.log(1-al)))\n",
    "    cost = np.squeeze(cost)\n",
    "    assert(cost.shape == ())\n",
    "    return cost"
   ]
  },
  {
   "cell_type": "code",
   "execution_count": 13,
   "id": "30f5b654",
   "metadata": {},
   "outputs": [
    {
     "name": "stdout",
     "output_type": "stream",
     "text": [
      "cost = 0.41493159961539694\n"
     ]
    }
   ],
   "source": [
    "y, al = compute_cost_test_case()\n",
    "print(\"cost = \" + str(compute_cost(al,y)))"
   ]
  },
  {
   "cell_type": "code",
   "execution_count": 18,
   "id": "f759d5e7",
   "metadata": {},
   "outputs": [],
   "source": [
    "def linear_backward(dz, cache):\n",
    "    a_prev, w, b = cache\n",
    "    m = a_prev.shape[1]\n",
    "    dw = np.dot(dz,cache[0].T)/m\n",
    "    db = np.sum(dz,axis = 1, keepdims=True)/m\n",
    "    da_prev = np.dot(cache[1].T,dz)\n",
    "    print(db.shape,b.shape)\n",
    "    assert (da_prev.shape == a_prev.shape)\n",
    "    assert (dw.shape == w.shape)\n",
    "    assert (db.shape == b.shape)\n",
    "    \n",
    "    return da_prev, dw, db"
   ]
  },
  {
   "cell_type": "code",
   "execution_count": 19,
   "id": "904af20f",
   "metadata": {},
   "outputs": [
    {
     "name": "stdout",
     "output_type": "stream",
     "text": [
      "(1, 1) (1, 1)\n",
      "da_prev = [[ 0.51822968 -0.19517421]\n",
      " [-0.40506361  0.15255393]\n",
      " [ 2.37496825 -0.89445391]]\n",
      "dw = [[-0.10076895  1.40685096  1.64992505]]\n",
      "db = [[0.50629448]]\n"
     ]
    }
   ],
   "source": [
    "dz, linear_cache = linear_backward_test_case()\n",
    "da_prev, dw, db = linear_backward(dz, linear_cache)\n",
    "print(\"da_prev = \" + str(da_prev))\n",
    "print(\"dw = \" + str(dw))\n",
    "print(\"db = \" + str(db))"
   ]
  },
  {
   "cell_type": "code",
   "execution_count": 20,
   "id": "19ee7d41",
   "metadata": {},
   "outputs": [],
   "source": [
    "def linear_activation_backward(da, cache, activation):\n",
    "    linear_cache, activation_cache = cache\n",
    "    if activation == \"relu\":\n",
    "        dz = relu_backward(da, activation_cache)\n",
    "    elif activation == \"sigmoid\":\n",
    "        dz = sigmoid_backward(da, activation_cache)\n",
    "    da_prev, dw, db = linear_backward(dz, linear_cache)\n",
    "    return da_prev, dw, db"
   ]
  },
  {
   "cell_type": "code",
   "execution_count": 21,
   "id": "13d96c3e",
   "metadata": {},
   "outputs": [
    {
     "name": "stdout",
     "output_type": "stream",
     "text": [
      "(1, 1) (1, 1)\n",
      "Sigmoid:\n",
      "da_prev = [[ 0.11017994  0.01105339]\n",
      " [ 0.09466817  0.00949723]\n",
      " [-0.05743092 -0.00576154]]\n",
      "dw = [[ 0.10266786  0.09778551 -0.01968084]]\n",
      "db = [[-0.05729622]]\n",
      "(1, 1) (1, 1)\n",
      "ReLU:\n",
      "da_prev = [[ 0.44090989 -0.        ]\n",
      " [ 0.37883606 -0.        ]\n",
      " [-0.2298228   0.        ]]\n",
      "dw = [[ 0.44513824  0.37371418 -0.10478989]]\n",
      "db = [[-0.20837892]]\n"
     ]
    }
   ],
   "source": [
    "al, linear_activation_cache = linear_activation_backward_test_case()\n",
    "da_prev , dw, db = linear_activation_backward(al, linear_activation_cache, activation = \"sigmoid\")\n",
    "print(\"Sigmoid:\")\n",
    "print(\"da_prev = \" + str(da_prev))\n",
    "print(\"dw = \" + str(dw))\n",
    "print(\"db = \" + str(db))\n",
    "da_prev , dw, db = linear_activation_backward(al,linear_activation_cache, activation = \"relu\")\n",
    "print(\"ReLU:\")\n",
    "print(\"da_prev = \" + str(da_prev))\n",
    "print(\"dw = \" + str(dw))\n",
    "print(\"db = \" + str(db))\n"
   ]
  },
  {
   "cell_type": "code",
   "execution_count": 22,
   "id": "b92fbb47",
   "metadata": {},
   "outputs": [],
   "source": [
    "def L_model_backward(al, y, caches):\n",
    "    grads = {}\n",
    "    L = len(caches)\n",
    "    m = al.shape[1]\n",
    "    #y = y.reshape[al.shape]\n",
    "    dal = - (np.divide(y,al) - np.divide(1-y,1-al))\n",
    "    current_cache = caches[-1]\n",
    "    grads[\"da\" + str(L-1)],grads[\"dw\" + str(L)],grads[\"db\" + str(L)] = linear_activation_backward(dal,current_cache,activation = \"sigmoid\")\n",
    "    for l in reversed(range(L-1)):\n",
    "        current_cache = caches[l]\n",
    "        da_prev_temp, dw_temp, db_temp = linear_activation_backward(grads[\"da\" + str(l + 1)], current_cache, activation=\"relu\")\n",
    "        grads[\"da\" + str(l+1)] = da_prev_temp\n",
    "        grads[\"dw\" + str(l+1)] = dw_temp\n",
    "        grads[\"db\" + str(l+1)] = db_temp\n",
    "    return grads"
   ]
  },
  {
   "cell_type": "code",
   "execution_count": 23,
   "id": "a3b16165",
   "metadata": {},
   "outputs": [
    {
     "name": "stdout",
     "output_type": "stream",
     "text": [
      "(1, 1) (1, 1)\n",
      "(3, 1) (3, 1)\n",
      "dW1 = [[0.41010002 0.07807203 0.13798444 0.10502167]\n",
      " [0.         0.         0.         0.        ]\n",
      " [0.05283652 0.01005865 0.01777766 0.0135308 ]]\n",
      "db1 = [[-0.22007063]\n",
      " [ 0.        ]\n",
      " [-0.02835349]]\n",
      "dA1 = [[ 0.          0.52257901]\n",
      " [ 0.         -0.3269206 ]\n",
      " [ 0.         -0.32070404]\n",
      " [ 0.         -0.74079187]]\n"
     ]
    }
   ],
   "source": [
    "al, y_assess, caches = L_model_backward_test_case()\n",
    "grads = L_model_backward(al, y_assess, caches)\n",
    "print (\"dW1 = \"+ str(grads[\"dw1\"]))\n",
    "print (\"db1 = \"+ str(grads[\"db1\"]))\n",
    "print (\"dA1 = \"+ str(grads[\"da1\"]))"
   ]
  },
  {
   "cell_type": "code",
   "execution_count": 30,
   "id": "e5c9d92b",
   "metadata": {},
   "outputs": [],
   "source": [
    "def update_parameters(parameters,grads , learning_rate):\n",
    "    L = len(parameters) //2\n",
    "    for l in range(L):\n",
    "        parameters[\"w\" + str(l+1)] = parameters[\"w\" + str(l+1)] - learning_rate * grads[\"dw\"+str(l+1)]\n",
    "        parameters[\"b\" + str(l+1)] = parameters[\"b\" + str(l+1)] - learning_rate * grads[\"db\"+str(l+1)]\n",
    "    return parameters"
   ]
  },
  {
   "cell_type": "code",
   "execution_count": 31,
   "id": "225173e0",
   "metadata": {},
   "outputs": [
    {
     "name": "stdout",
     "output_type": "stream",
     "text": [
      "W1 = [[-0.59562069 -0.09991781 -2.14584584  1.82662008]\n",
      " [-1.76569676 -0.80627147  0.51115557 -1.18258802]\n",
      " [-1.0535704  -0.86128581  0.68284052  2.20374577]]\n",
      "b1 = [[-0.04659241]\n",
      " [-1.28888275]\n",
      " [ 0.53405496]]\n",
      "W2 = [[-0.55569196  0.0354055   1.32964895]]\n",
      "b2 = [[-0.84610769]]\n"
     ]
    }
   ],
   "source": [
    "parameters, grads = update_parameters_test_case()\n",
    "parameters, update_parameters(parameters,grads, 0.1)\n",
    "print (\"W1 = \" + str(parameters[\"w1\"]))\n",
    "print (\"b1 = \" + str(parameters[\"b1\"]))\n",
    "print (\"W2 = \" + str(parameters[\"w2\"]))\n",
    "print (\"b2 = \" + str(parameters[\"b2\"]))"
   ]
  },
  {
   "cell_type": "code",
   "execution_count": null,
   "id": "65bba3c0",
   "metadata": {},
   "outputs": [],
   "source": []
  }
 ],
 "metadata": {
  "kernelspec": {
   "display_name": "Python 3",
   "language": "python",
   "name": "python3"
  },
  "language_info": {
   "codemirror_mode": {
    "name": "ipython",
    "version": 3
   },
   "file_extension": ".py",
   "mimetype": "text/x-python",
   "name": "python",
   "nbconvert_exporter": "python",
   "pygments_lexer": "ipython3",
   "version": "3.8.3"
  }
 },
 "nbformat": 4,
 "nbformat_minor": 5
}
