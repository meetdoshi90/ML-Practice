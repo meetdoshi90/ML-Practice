{
 "cells": [
  {
   "cell_type": "code",
   "execution_count": null,
   "id": "a592c31e",
   "metadata": {},
   "outputs": [],
   "source": [
    "import os\n",
    "import sys\n",
    "import scipy.io\n",
    "import scipy.misc\n",
    "import matplotlib.pyplot as plt\n",
    "import numpy as np\n",
    "import tensorflow as tf\n",
    "import pprint\n",
    "from PIL import Image\n",
    "from nst_utils import *"
   ]
  },
  {
   "cell_type": "code",
   "execution_count": null,
   "id": "0f6f134b",
   "metadata": {},
   "outputs": [],
   "source": [
    "pp = pprint.PrettyPrinter(indent=4)\n",
    "model = load_vgg_model(r\"C:\\Users\\meetd\\OneDrive\\Desktop\\Trained-Models\\imagenet-vgg-verydeep-19\\imagenet-vgg-verydeep-19.mat\")\n",
    "pp.pprint(model)"
   ]
  },
  {
   "cell_type": "code",
   "execution_count": null,
   "id": "82913361",
   "metadata": {},
   "outputs": [],
   "source": [
    "!pip install tensorflow"
   ]
  }
 ],
 "metadata": {
  "kernelspec": {
   "display_name": "Python 3",
   "language": "python",
   "name": "python3"
  },
  "language_info": {
   "codemirror_mode": {
    "name": "ipython",
    "version": 3
   },
   "file_extension": ".py",
   "mimetype": "text/x-python",
   "name": "python",
   "nbconvert_exporter": "python",
   "pygments_lexer": "ipython3",
   "version": "3.9.5"
  }
 },
 "nbformat": 4,
 "nbformat_minor": 5
}
