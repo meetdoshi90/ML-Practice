{
 "cells": [
  {
   "cell_type": "code",
   "execution_count": 1,
   "id": "38b4bdd4",
   "metadata": {},
   "outputs": [],
   "source": [
    "import numpy as np\n",
    "import matplotlib.pyplot as plt\n",
    "import h5py\n",
    "import scipy\n",
    "from PIL import Image\n",
    "from scipy import ndimage\n",
    "import h5py"
   ]
  },
  {
   "cell_type": "code",
   "execution_count": 2,
   "id": "b2c60e2f",
   "metadata": {},
   "outputs": [],
   "source": [
    "test_data = h5py.File('C:/Users/meetd/OneDrive/Desktop/Datasets/cats/test_catvnoncat.h5','r')\n",
    "train_data = h5py.File('C:/Users/meetd/OneDrive/Desktop/Datasets/cats/train_catvnoncat.h5','r')"
   ]
  },
  {
   "cell_type": "code",
   "execution_count": 3,
   "id": "8e3b5a04",
   "metadata": {},
   "outputs": [
    {
     "name": "stdout",
     "output_type": "stream",
     "text": [
      "<KeysViewHDF5 ['list_classes', 'test_set_x', 'test_set_y']>\n"
     ]
    }
   ],
   "source": [
    "print(test_data.keys())"
   ]
  },
  {
   "cell_type": "code",
   "execution_count": 4,
   "id": "7ef48509",
   "metadata": {},
   "outputs": [],
   "source": [
    "test_x = test_data['test_set_x']\n",
    "test_y = test_data['test_set_y']"
   ]
  },
  {
   "cell_type": "code",
   "execution_count": 5,
   "id": "7fef497a",
   "metadata": {},
   "outputs": [
    {
     "name": "stdout",
     "output_type": "stream",
     "text": [
      "<KeysViewHDF5 ['list_classes', 'train_set_x', 'train_set_y']>\n"
     ]
    }
   ],
   "source": [
    "print(train_data.keys())"
   ]
  },
  {
   "cell_type": "code",
   "execution_count": 6,
   "id": "3bd774ab",
   "metadata": {},
   "outputs": [],
   "source": [
    "train_x = train_data['train_set_x']\n",
    "train_y = train_data['train_set_y']\n",
    "classes = train_data['list_classes']\n",
    "print"
   ]
  },
  {
   "cell_type": "code",
   "execution_count": 7,
   "id": "90a56404",
   "metadata": {},
   "outputs": [
    {
     "name": "stdout",
     "output_type": "stream",
     "text": [
      "y = 1, it's a 'b'cat'' picture.\n"
     ]
    },
    {
     "data": {
      "image/png": "[encoded data removed]",
      "text/plain": [
       "<Figure size 432x288 with 1 Axes>"
      ]
     },
     "metadata": {
      "needs_background": "light"
     },
     "output_type": "display_data"
    }
   ],
   "source": [
    "index = 24\n",
    "plt.imshow(train_x[index])\n",
    "print (\"y = \" + str(train_y[index]) + \", it's a '\" + str(classes[train_y[index]]) +  \"' picture.\")\n",
    "#"
   ]
  },
  {
   "cell_type": "code",
   "execution_count": 8,
   "id": "2dac3b75",
   "metadata": {},
   "outputs": [
    {
     "name": "stdout",
     "output_type": "stream",
     "text": [
      "Number of training images = 209\n",
      "Number of test images = 50\n",
      "Height of images = 64\n",
      "Width of images = 64\n",
      "Image dimensions 64,64,3\n"
     ]
    }
   ],
   "source": [
    "print(\"Number of training images = \" + str(train_x.shape[0]))\n",
    "print(\"Number of test images = \" + str(test_x.shape[0]))\n",
    "print(\"Height of images = \" + str(train_x[index].shape[0]))\n",
    "print(\"Width of images = \" + str(train_x[index].shape[1]))\n",
    "\n",
    "print(\"Image dimensions \" + str(train_x[index].shape[0]) + \",\" +str(train_x[index].shape[1])\n",
    "      + \",\" +str(train_x[index].shape[2]))\n"
   ]
  },
  {
   "cell_type": "code",
   "execution_count": 9,
   "id": "782a170c",
   "metadata": {},
   "outputs": [
    {
     "name": "stdout",
     "output_type": "stream",
     "text": [
      "(209, 64, 64, 3)\n",
      "(209, 64, 64, 3)\n"
     ]
    }
   ],
   "source": [
    "print(train_x.shape)\n",
    "train_x = np.asarray(train_x)\n",
    "print(train_x.shape)\n",
    "test_x = np.asarray(test_x)\n",
    "train_y = np.asarray(train_y)\n",
    "test_y = np.asarray(test_y)\n",
    "train_x_flatten = train_x.reshape(train_x.shape[0],-1).T\n",
    "test_x_flatten = test_x.reshape(test_x.shape[0],-1).T\n",
    "test_y = test_y.reshape(1,-1)\n",
    "train_y = train_y.reshape(1,-1)\n"
   ]
  },
  {
   "cell_type": "code",
   "execution_count": 10,
   "id": "f8c8d1cd",
   "metadata": {},
   "outputs": [],
   "source": [
    "train_x = train_x_flatten/255.0\n",
    "test_x = test_x_flatten/255.0"
   ]
  },
  {
   "cell_type": "code",
   "execution_count": 11,
   "id": "f4e38d6c",
   "metadata": {},
   "outputs": [],
   "source": [
    "def initialize_with_zeros(dim):\n",
    "    w = np.zeros((dim,1))\n",
    "    b = 0\n",
    "    return w,b"
   ]
  },
  {
   "cell_type": "code",
   "execution_count": 12,
   "id": "d31b381d",
   "metadata": {},
   "outputs": [],
   "source": [
    "def sigmoid(z):\n",
    "    s = 1 / ( 1 + np.exp(-z))\n",
    "    return s"
   ]
  },
  {
   "cell_type": "code",
   "execution_count": 13,
   "id": "6bcb78d3",
   "metadata": {},
   "outputs": [],
   "source": [
    "def propagate(w,b,x,y):\n",
    "    m = x.shape[1]\n",
    "    epsilon = 1e-6\n",
    "    A = sigmoid(np.dot(w.T,x)+b)\n",
    "    cost = -1 / m * (np.sum(y*np.log(A+epsilon) + (1-y)*np.log(1-A +epsilon),axis = 1,keepdims=True))\n",
    "    dw = 1/m * np.dot(x,(A-y).T)\n",
    "    db = 1/m * np.sum(A-y)\n",
    "    assert(dw.shape == w.shape)\n",
    "    assert(db.dtype == float)\n",
    "    cost = np.squeeze(cost)\n",
    "    assert(cost.shape == ())\n",
    "    grads = {\"dw\": dw,\n",
    "             \"db\": db}\n",
    "    \n",
    "    return grads, cost"
   ]
  },
  {
   "cell_type": "code",
   "execution_count": 14,
   "id": "6484f23c",
   "metadata": {},
   "outputs": [],
   "source": [
    "def optimize(w,b,x,y,num_iterations,alpha,print_cost = False):\n",
    "    costs = []\n",
    "    for i in range(num_iterations):\n",
    "        grads, cost = propagate(w,b,x,y)\n",
    "        dw = grads['dw']\n",
    "        db = grads['db']\n",
    "        w = w - alpha*dw\n",
    "        b = b - alpha*db\n",
    "        \n",
    "        if i % 100 == 0:\n",
    "            costs.append(cost)\n",
    "        if print_cost and i % 100 == 0:\n",
    "            print(\"Cost after iteration %i: %f\" %(i,cost))\n",
    "    params = {\"w\": w,\n",
    "             \"b\": b}\n",
    "    grads = {\"dw\":dw,\n",
    "            \"db\":db}\n",
    "    return params, grads, costs\n",
    "    "
   ]
  },
  {
   "cell_type": "code",
   "execution_count": 15,
   "id": "6d6253d9",
   "metadata": {},
   "outputs": [
    {
     "name": "stdout",
     "output_type": "stream",
     "text": [
      "Cost after iteration 0: 0.693145\n",
      "Cost after iteration 100: 0.591288\n",
      "Cost after iteration 200: 0.555794\n",
      "Cost after iteration 300: 0.528975\n",
      "Cost after iteration 400: 0.506880\n"
     ]
    }
   ],
   "source": [
    "w,b = initialize_with_zeros(train_x.shape[0])\n",
    "params , grads, costs = optimize(w,b,train_x,train_y,num_iterations=500,alpha = 0.001, print_cost=True)"
   ]
  },
  {
   "cell_type": "code",
   "execution_count": 16,
   "id": "70239819",
   "metadata": {},
   "outputs": [
    {
     "name": "stdout",
     "output_type": "stream",
     "text": [
      "w = [[ 0.00207778]\n",
      " [-0.00317563]\n",
      " [-0.00121325]\n",
      " ...\n",
      " [-0.00181546]\n",
      " [-0.0050507 ]\n",
      " [ 0.00253017]]\n",
      "b = -0.005375484414253573\n",
      "dw = [[-0.00253643]\n",
      " [ 0.00580395]\n",
      " [ 0.00313119]\n",
      " ...\n",
      " [ 0.0032576 ]\n",
      " [ 0.00788761]\n",
      " [-0.00455378]]\n",
      "db = 0.007537864651591597\n"
     ]
    }
   ],
   "source": [
    "print (\"w = \" + str(params[\"w\"]))\n",
    "print (\"b = \" + str(params[\"b\"]))\n",
    "print (\"dw = \" + str(grads[\"dw\"]))\n",
    "print (\"db = \" + str(grads[\"db\"]))"
   ]
  },
  {
   "cell_type": "code",
   "execution_count": 17,
   "id": "fe7e2d30",
   "metadata": {},
   "outputs": [],
   "source": [
    "def predict(w,b,x):\n",
    "    m = x.shape[1]\n",
    "    y_pred = np.zeros((1,m))\n",
    "    w = w.reshape(x.shape[0], 1)\n",
    "    A = sigmoid(np.dot(w.T,x)+b)\n",
    "    for i in range(A.shape[1]):\n",
    "        y_pred[0,i] = np.where(A[0,i]>0.5,1,0)\n",
    "    assert(y_pred.shape == (1,m))\n",
    "    return y_pred\n"
   ]
  },
  {
   "cell_type": "code",
   "execution_count": 18,
   "id": "dcb8d8d9",
   "metadata": {},
   "outputs": [
    {
     "name": "stdout",
     "output_type": "stream",
     "text": [
      "[[1. 1. 1. 1. 0. 0. 0. 1. 1. 1. 0. 0. 1. 1. 0. 1. 0. 0. 0. 0. 0. 0. 0. 0.\n",
      "  1. 1. 0. 0. 0. 1. 0. 0. 0. 0. 0. 0. 0. 1. 0. 0. 0. 1. 0. 0. 1. 0. 0. 1.\n",
      "  0. 0.]]\n"
     ]
    }
   ],
   "source": [
    "y_pred = predict(params[\"w\"],params[\"b\"],test_x)\n",
    "print(y_pred)"
   ]
  },
  {
   "cell_type": "code",
   "execution_count": 19,
   "id": "0e63043d",
   "metadata": {},
   "outputs": [],
   "source": [
    "def accuracy(y,y_pred,m):\n",
    "    incorrect = np.sum(abs(y-y_pred))\n",
    "    print(\"accuracy = %f\" %(1-(incorrect / m)))"
   ]
  },
  {
   "cell_type": "code",
   "execution_count": 20,
   "id": "822e3ca1",
   "metadata": {},
   "outputs": [
    {
     "name": "stdout",
     "output_type": "stream",
     "text": [
      "50\n",
      "accuracy = 0.560000\n"
     ]
    }
   ],
   "source": [
    "print(test_x.shape[1])\n",
    "accuracy(test_y,y_pred,test_x.shape[1])"
   ]
  },
  {
   "cell_type": "code",
   "execution_count": 21,
   "id": "d212e8a0",
   "metadata": {},
   "outputs": [
    {
     "data": {
      "image/png": "[encoded data removed]",
      "text/plain": [
       "<Figure size 432x288 with 1 Axes>"
      ]
     },
     "metadata": {
      "needs_background": "light"
     },
     "output_type": "display_data"
    }
   ],
   "source": [
    "costs = np.squeeze(costs)\n",
    "plt.plot(costs)\n",
    "plt.ylabel('cost')\n",
    "plt.xlabel('iterations (per hundreds)')\n",
    "plt.title(\"Learning rate =\" + str(0.01))\n",
    "plt.show()"
   ]
  },
  {
   "cell_type": "code",
   "execution_count": 22,
   "id": "932f489c",
   "metadata": {},
   "outputs": [],
   "source": [
    "def model(X_train, Y_train, X_test, Y_test, num_iterations = 2000, learning_rate = 0.5, print_cost = False):\n",
    "    w, b = initialize_with_zeros(X_train.shape[0])\n",
    "    parameters, grads, costs = optimize(w, b, train_x, train_y, num_iterations, learning_rate, print_cost)\n",
    "    w = parameters[\"w\"]\n",
    "    b = parameters[\"b\"]\n",
    "    Y_prediction_test = predict(w, b, X_test)\n",
    "    Y_prediction_train = predict(w, b, X_train)\n",
    "    print(\"train accuracy: {} %\".format(100 - np.mean(np.abs(Y_prediction_train - Y_train)) * 100))\n",
    "    print(\"test accuracy: {} %\".format(100 - np.mean(np.abs(Y_prediction_test - Y_test)) * 100))\n",
    "    d = {\"costs\": costs,\n",
    "         \"Y_prediction_test\": Y_prediction_test, \n",
    "         \"Y_prediction_train\" : Y_prediction_train, \n",
    "         \"w\" : w, \n",
    "         \"b\" : b,\n",
    "         \"learning_rate\" : learning_rate,\n",
    "         \"num_iterations\": num_iterations}\n",
    "    return d"
   ]
  },
  {
   "cell_type": "code",
   "execution_count": 23,
   "id": "9400a49c",
   "metadata": {},
   "outputs": [
    {
     "name": "stdout",
     "output_type": "stream",
     "text": [
      "learning rate is: 0.01\n",
      "train accuracy: 99.52153110047847 %\n",
      "test accuracy: 68.0 %\n",
      "\n",
      "-------------------------------------------------------\n",
      "\n",
      "learning rate is: 0.001\n",
      "train accuracy: 88.99521531100478 %\n",
      "test accuracy: 64.0 %\n",
      "\n",
      "-------------------------------------------------------\n",
      "\n",
      "learning rate is: 0.0001\n",
      "train accuracy: 68.42105263157895 %\n",
      "test accuracy: 36.0 %\n",
      "\n",
      "-------------------------------------------------------\n",
      "\n",
      "learning rate is: 0.1\n",
      "train accuracy: 100.0 %\n",
      "test accuracy: 68.0 %\n",
      "\n",
      "-------------------------------------------------------\n",
      "\n",
      "learning rate is: 0.005\n",
      "train accuracy: 97.60765550239235 %\n",
      "test accuracy: 70.0 %\n",
      "\n",
      "-------------------------------------------------------\n",
      "\n"
     ]
    },
    {
     "data": {
      "image/png": "[encoded data removed]",
      "text/plain": [
       "<Figure size 432x288 with 1 Axes>"
      ]
     },
     "metadata": {
      "needs_background": "light"
     },
     "output_type": "display_data"
    }
   ],
   "source": [
    "learning_rates = [0.01, 0.001, 0.0001, 0.1, 0.005]\n",
    "models = {}\n",
    "for i in learning_rates:\n",
    "    print (\"learning rate is: \" + str(i))\n",
    "    models[str(i)] = model(train_x, train_y, test_x, test_y, num_iterations = 1500, learning_rate = i, print_cost = False)\n",
    "    print ('\\n' + \"-------------------------------------------------------\" + '\\n')\n",
    "\n",
    "for i in learning_rates:\n",
    "    plt.plot(np.squeeze(models[str(i)][\"costs\"]), label= str(models[str(i)][\"learning_rate\"]))\n",
    "\n",
    "plt.ylabel('cost')\n",
    "plt.xlabel('iterations (hundreds)')\n",
    "\n",
    "legend = plt.legend(loc='upper center', shadow=True)\n",
    "frame = legend.get_frame()\n",
    "frame.set_facecolor('0.90')\n",
    "plt.show()"
   ]
  },
  {
   "cell_type": "code",
   "execution_count": null,
   "id": "5561bf5c",
   "metadata": {},
   "outputs": [],
   "source": []
  }
 ],
 "metadata": {
  "kernelspec": {
   "display_name": "Python 3",
   "language": "python",
   "name": "python3"
  },
  "language_info": {
   "codemirror_mode": {
    "name": "ipython",
    "version": 3
   },
   "file_extension": ".py",
   "mimetype": "text/x-python",
   "name": "python",
   "nbconvert_exporter": "python",
   "pygments_lexer": "ipython3",
   "version": "3.8.3"
  }
 },
 "nbformat": 4,
 "nbformat_minor": 5
}
