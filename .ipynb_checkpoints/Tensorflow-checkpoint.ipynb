{
 "cells": [
  {
   "cell_type": "code",
   "execution_count": 2,
   "id": "dd921778",
   "metadata": {},
   "outputs": [
    {
     "name": "stdout",
     "output_type": "stream",
     "text": [
      "Collecting mitdeeplearning\n",
      "  Using cached mitdeeplearning-0.2.0.tar.gz (2.1 MB)\n",
      "Requirement already satisfied: numpy in c:\\users\\meetd\\anaconda3\\lib\\site-packages (from mitdeeplearning) (1.19.5)\n",
      "Requirement already satisfied: regex in c:\\users\\meetd\\anaconda3\\lib\\site-packages (from mitdeeplearning) (2021.4.4)\n",
      "Requirement already satisfied: tqdm in c:\\users\\meetd\\anaconda3\\lib\\site-packages (from mitdeeplearning) (4.59.0)\n",
      "Collecting gym\n",
      "  Using cached gym-0.18.3.tar.gz (1.6 MB)\n",
      "Requirement already satisfied: scipy in c:\\users\\meetd\\anaconda3\\lib\\site-packages (from gym->mitdeeplearning) (1.6.2)\n",
      "Collecting pyglet<=1.5.15,>=1.4.0\n",
      "  Using cached pyglet-1.5.15-py3-none-any.whl (1.1 MB)\n",
      "Requirement already satisfied: Pillow<=8.2.0 in c:\\users\\meetd\\anaconda3\\lib\\site-packages (from gym->mitdeeplearning) (8.2.0)\n",
      "Requirement already satisfied: cloudpickle<1.7.0,>=1.2.0 in c:\\users\\meetd\\anaconda3\\lib\\site-packages (from gym->mitdeeplearning) (1.6.0)\n",
      "Building wheels for collected packages: mitdeeplearning, gym\n",
      "  Building wheel for mitdeeplearning (setup.py): started\n",
      "  Building wheel for mitdeeplearning (setup.py): finished with status 'done'\n",
      "  Created wheel for mitdeeplearning: filename=mitdeeplearning-0.2.0-py3-none-any.whl size=2115443 sha256=0b88bf20bc1b070a7a662054649694c5a994c284b51fdb35a294f4ae81a872d3\n",
      "  Stored in directory: c:\\users\\meetd\\appdata\\local\\pip\\cache\\wheels\\2e\\45\\44\\c5b304f31f37e8d2315f9e969fd8cdb0014a5c28608d0bf410\n",
      "  Building wheel for gym (setup.py): started\n",
      "  Building wheel for gym (setup.py): finished with status 'done'\n",
      "  Created wheel for gym: filename=gym-0.18.3-py3-none-any.whl size=1657517 sha256=b99bec53001c206d66c4ef2e9ca264ec475e931cd27d9c909378c5dc7e4e5608\n",
      "  Stored in directory: c:\\users\\meetd\\appdata\\local\\pip\\cache\\wheels\\b3\\03\\54\\9141c232861b89be935b37bdde0ea5ab472f5e18fc20623aed\n",
      "Successfully built mitdeeplearning gym\n",
      "Installing collected packages: pyglet, gym, mitdeeplearning\n",
      "Successfully installed gym-0.18.3 mitdeeplearning-0.2.0 pyglet-1.5.15\n"
     ]
    }
   ],
   "source": [
    "!pip install mitdeeplearning\n",
    "import tensorflow as tf\n",
    "import mitdeeplearning as mdl\n",
    "import numpy as np\n",
    "import matplotlib.pyplot as plt"
   ]
  },
  {
   "cell_type": "code",
   "execution_count": 7,
   "id": "66a49b24",
   "metadata": {},
   "outputs": [
    {
     "name": "stdout",
     "output_type": "stream",
     "text": [
      "Sport is a 0-d Tensor\n",
      "Number is a 0-d Tensor\n"
     ]
    }
   ],
   "source": [
    "sport = tf.constant(\"Tennis\", tf.string)\n",
    "number = tf.constant(1.41421356237, tf.float64)\n",
    "print(\"Sport is a {}-d Tensor\".format(tf.rank(sport)))\n",
    "print(\"Number is a {}-d Tensor\".format(tf.rank(number)))"
   ]
  },
  {
   "cell_type": "code",
   "execution_count": 8,
   "id": "97c92372",
   "metadata": {},
   "outputs": [
    {
     "name": "stdout",
     "output_type": "stream",
     "text": [
      "Sport is a 1-d Tensor\n",
      "Number is a 1-d Tensor\n"
     ]
    }
   ],
   "source": [
    "sport = tf.constant([\"Tennis\",\"Basketball\"], tf.string)\n",
    "number = tf.constant([1.41421356237, 3.6574336, 1.4224245], tf.float64)\n",
    "print(\"Sport is a {}-d Tensor\".format(tf.rank(sport)))\n",
    "print(\"Number is a {}-d Tensor\".format(tf.rank(number)))"
   ]
  },
  {
   "cell_type": "code",
   "execution_count": 13,
   "id": "8ce82143",
   "metadata": {},
   "outputs": [],
   "source": [
    "matrix = tf.constant([[1.0,2.0,3.0,4.0],[5.0,6.0,7.0,8.0]])\n",
    "assert isinstance(matrix,tf.Tensor), \"matrix must be a tf Tensor object\"\n",
    "assert tf.rank(matrix).numpy() == 2"
   ]
  },
  {
   "cell_type": "code",
   "execution_count": null,
   "id": "7886037e",
   "metadata": {},
   "outputs": [],
   "source": []
  },
  {
   "cell_type": "code",
   "execution_count": null,
   "id": "ad814a22",
   "metadata": {},
   "outputs": [],
   "source": []
  }
 ],
 "metadata": {
  "kernelspec": {
   "display_name": "Python 3",
   "language": "python",
   "name": "python3"
  },
  "language_info": {
   "codemirror_mode": {
    "name": "ipython",
    "version": 3
   },
   "file_extension": ".py",
   "mimetype": "text/x-python",
   "name": "python",
   "nbconvert_exporter": "python",
   "pygments_lexer": "ipython3",
   "version": "3.8.3"
  }
 },
 "nbformat": 4,
 "nbformat_minor": 5
}
