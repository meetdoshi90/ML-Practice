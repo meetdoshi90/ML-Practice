{
 "cells": [
  {
   "cell_type": "code",
   "execution_count": 1,
   "id": "48b321d1",
   "metadata": {},
   "outputs": [],
   "source": [
    "import tensorflow as tf\n",
    "import mitdeeplearning as mdl\n",
    "import numpy as np\n",
    "import os, time, functools\n",
    "from IPython import display as ipythondisplay\n",
    "from tqdm import tqdm"
   ]
  },
  {
   "cell_type": "code",
   "execution_count": 2,
   "id": "8b540fd4",
   "metadata": {},
   "outputs": [
    {
     "name": "stdout",
     "output_type": "stream",
     "text": [
      "Found 817 songs in text\n",
      "\n",
      "Example Song: \n",
      "X:1\n",
      "T:Alexander's\n",
      "Z: id:dc-hornpipe-1\n",
      "M:C|\n",
      "L:1/8\n",
      "K:D Major\n",
      "(3ABc|dAFA DFAd|fdcd FAdf|gfge fefd|(3efe (3dcB A2 (3ABc|!\n",
      "dAFA DFAd|fdcd FAdf|gfge fefd|(3efe dc d2:|!\n",
      "AG|FAdA FAdA|GBdB GBdB|Acec Acec|dfaf gecA|!\n",
      "FAdA FAdA|GBdB GBdB|Aceg fefd|(3efe dc d2:|!\n"
     ]
    }
   ],
   "source": [
    "songs = mdl.lab1.load_training_data()\n",
    "example_song = songs[0]\n",
    "print(\"\\nExample Song: \")\n",
    "print(example_song)"
   ]
  },
  {
   "cell_type": "code",
   "execution_count": 4,
   "id": "6fa11f7e",
   "metadata": {},
   "outputs": [],
   "source": [
    "mdl.lab1.play_song(example_song)"
   ]
  },
  {
   "cell_type": "code",
   "execution_count": 7,
   "id": "19d9ca15",
   "metadata": {},
   "outputs": [
    {
     "name": "stdout",
     "output_type": "stream",
     "text": [
      "There are 83 unique characters in the dataset\n"
     ]
    }
   ],
   "source": [
    "songs_joined = \"\\n\\n\".join(songs)\n",
    "vocab = sorted(set(songs_joined))\n",
    "print(\"There are\", len(vocab), \"unique characters in the dataset\")"
   ]
  },
  {
   "cell_type": "code",
   "execution_count": 8,
   "id": "623b9572",
   "metadata": {},
   "outputs": [
    {
     "name": "stdout",
     "output_type": "stream",
     "text": [
      "{'\\n': 0, ' ': 1, '!': 2, '\"': 3, '#': 4, \"'\": 5, '(': 6, ')': 7, ',': 8, '-': 9, '.': 10, '/': 11, '0': 12, '1': 13, '2': 14, '3': 15, '4': 16, '5': 17, '6': 18, '7': 19, '8': 20, '9': 21, ':': 22, '<': 23, '=': 24, '>': 25, 'A': 26, 'B': 27, 'C': 28, 'D': 29, 'E': 30, 'F': 31, 'G': 32, 'H': 33, 'I': 34, 'J': 35, 'K': 36, 'L': 37, 'M': 38, 'N': 39, 'O': 40, 'P': 41, 'Q': 42, 'R': 43, 'S': 44, 'T': 45, 'U': 46, 'V': 47, 'W': 48, 'X': 49, 'Y': 50, 'Z': 51, '[': 52, ']': 53, '^': 54, '_': 55, 'a': 56, 'b': 57, 'c': 58, 'd': 59, 'e': 60, 'f': 61, 'g': 62, 'h': 63, 'i': 64, 'j': 65, 'k': 66, 'l': 67, 'm': 68, 'n': 69, 'o': 70, 'p': 71, 'q': 72, 'r': 73, 's': 74, 't': 75, 'u': 76, 'v': 77, 'w': 78, 'x': 79, 'y': 80, 'z': 81, '|': 82}\n"
     ]
    }
   ],
   "source": [
    "char2idx = {u:i for i, u in enumerate(vocab)}\n",
    "idx2char = np.array(vocab)\n",
    "print(char2idx)"
   ]
  },
  {
   "cell_type": "code",
   "execution_count": 15,
   "id": "afc45b46",
   "metadata": {},
   "outputs": [
    {
     "name": "stdout",
     "output_type": "stream",
     "text": [
      "{\n",
      "  '\\n':  0,\n",
      "  ' ' :  1,\n",
      "  '!' :  2,\n",
      "  '\"' :  3,\n",
      "  '#' :  4,\n",
      "  \"'\" :  5,\n",
      "  '(' :  6,\n",
      "  ')' :  7,\n",
      "  ',' :  8,\n",
      "  '-' :  9,\n",
      "  '.' : 10,\n",
      "  '/' : 11,\n",
      "  '0' : 12,\n",
      "  '1' : 13,\n",
      "  '2' : 14,\n",
      "  '3' : 15,\n",
      "  '4' : 16,\n",
      "  '5' : 17,\n",
      "  '6' : 18,\n",
      "  '7' : 19,\n",
      "  ...\n",
      "}\n"
     ]
    }
   ],
   "source": [
    "print('{')\n",
    "for char, _ in zip(char2idx,range(20)):\n",
    "    print('  {:4s}: {:2d},'.format(repr(char), char2idx[char]))\n",
    "print('  ...\\n}')"
   ]
  },
  {
   "cell_type": "code",
   "execution_count": 16,
   "id": "6add099e",
   "metadata": {},
   "outputs": [],
   "source": [
    "def vectorize_string(string):\n",
    "    vectorized_output = np.array([char2idx[char] for char in string])\n",
    "    return vectorized_output\n",
    "\n",
    "vectorized_songs = vectorize_string(songs_joined)"
   ]
  },
  {
   "cell_type": "code",
   "execution_count": 31,
   "id": "2f3b017a",
   "metadata": {},
   "outputs": [
    {
     "name": "stdout",
     "output_type": "stream",
     "text": [
      "\n",
      "Song 1 in String:\n",
      " --------------------------------------------------\n",
      "X:1\n",
      "T:Alexander's\n",
      "Z: id:dc-hornpipe-1\n",
      "M:C|\n",
      "L:1/8\n",
      "K:D Major\n",
      "(3ABc|dAFA DFAd|fdcd FAdf|gfge fefd|(3efe (3dcB A2 (3ABc|!\n",
      "dAFA DFAd|fdcd FAdf|gfge fefd|(3efe dc d2:|!\n",
      "AG|FAdA FAdA|GBdB GBdB|Acec Acec|dfaf gecA|!\n",
      "FAdA FAdA|GBdB GBdB|Aceg fefd|(3efe dc d2:|!\n",
      "\n",
      "Song 1 in Vectors:\n",
      " --------------------------------------------------\n",
      "[49 22 13  0 45 22 26 67 60 79 56 69 59 60 73  5 74  0 51 22  1 64 59 22\n",
      " 59 58  9 63 70 73 69 71 64 71 60  9 13  0 38 22 28 82  0 37 22 13 11 20\n",
      "  0 36 22 29  1 38 56 65 70 73  0  6 15 26 27 58 82 59 26 31 26  1 29 31\n",
      " 26 59 82 61 59 58 59  1 31 26 59 61 82 62 61 62 60  1 61 60 61 59 82  6\n",
      " 15 60 61 60  1  6 15 59 58 27  1 26 14  1  6 15 26 27 58 82  2  0 59 26\n",
      " 31 26  1 29 31 26 59 82 61 59 58 59  1 31 26 59 61 82 62 61 62 60  1 61\n",
      " 60 61 59 82  6 15 60 61 60  1 59 58  1 59 14 22 82  2  0 26 32 82 31 26\n",
      " 59 26  1 31 26 59 26 82 32 27 59 27  1 32 27 59 27 82 26 58 60 58  1 26\n",
      " 58 60 58 82 59 61 56 61  1 62 60 58 26 82  2  0 31 26 59 26  1 31 26 59\n",
      " 26 82 32 27 59 27  1 32 27 59 27 82 26 58 60 62  1 61 60 61 59 82  6 15\n",
      " 60 61 60  1 59 58  1 59 14 22 82  2  0]\n"
     ]
    }
   ],
   "source": [
    "print(\"\\nSong 1 in String:\\n\", \"-\"*50)\n",
    "print(songs[0])\n",
    "print(\"\\nSong 1 in Vectors:\\n\", \"-\"*50)\n",
    "print(vectorized_songs[:253])"
   ]
  },
  {
   "cell_type": "code",
   "execution_count": 32,
   "id": "4912c050",
   "metadata": {},
   "outputs": [],
   "source": [
    "assert isinstance(vectorized_songs, np.ndarray)"
   ]
  },
  {
   "cell_type": "code",
   "execution_count": 33,
   "id": "ac7211d1",
   "metadata": {},
   "outputs": [],
   "source": [
    "def get_batch(vectorized_songs, seq_length, batch_size):\n",
    "    n = vectorized_songs.shape[0] - 1\n",
    "    idx = np.random.choice(n-seq_length, batch_size)\n",
    "    \n",
    "    input_batch = [vectorized_songs[i: i+seq_length] for i in idx]\n",
    "    output_batch = [vectorized_songs[i+1: i+seq_length+1] for i in idx]\n",
    "    x_batch = np.reshape(input_batch, [batch_size, seq_length])\n",
    "    y_batch = np.reshape(output_batch, [batch_size, seq_length])\n",
    "    return x_batch, y_batch"
   ]
  },
  {
   "cell_type": "code",
   "execution_count": 34,
   "id": "25da3a95",
   "metadata": {},
   "outputs": [
    {
     "name": "stdout",
     "output_type": "stream",
     "text": [
      "[PASS] test_batch_func_types\n",
      "[PASS] test_batch_func_shapes\n",
      "[PASS] test_batch_func_next_step\n",
      "======\n",
      "[PASS] passed all tests!\n"
     ]
    }
   ],
   "source": [
    "test_args = (vectorized_songs, 10, 2)\n",
    "if not mdl.lab1.test_batch_func_types(get_batch, test_args) or \\\n",
    "   not mdl.lab1.test_batch_func_shapes(get_batch, test_args) or \\\n",
    "   not mdl.lab1.test_batch_func_next_step(get_batch, test_args):\n",
    "    print(\"======\\n[FAIL] could not pass tests\")\n",
    "else: \n",
    "    print(\"======\\n[PASS] passed all tests!\")"
   ]
  },
  {
   "cell_type": "code",
   "execution_count": 46,
   "id": "be60cae1",
   "metadata": {},
   "outputs": [
    {
     "name": "stdout",
     "output_type": "stream",
     "text": [
      "Step   0\n",
      "  input: 26 ('A')\n",
      "  expected output: 82 ('|')\n",
      "Step   1\n",
      "  input: 82 ('|')\n",
      "  expected output: 27 ('B')\n",
      "Step   2\n",
      "  input: 27 ('B')\n",
      "  expected output: 26 ('A')\n",
      "Step   3\n",
      "  input: 26 ('A')\n",
      "  expected output: 59 ('d')\n",
      "Step   4\n",
      "  input: 59 ('d')\n",
      "  expected output: 27 ('B')\n",
      "Step   5\n",
      "  input: 27 ('B')\n",
      "  expected output: 1 (' ')\n",
      "Step   6\n",
      "  input: 1 (' ')\n",
      "  expected output: 26 ('A')\n",
      "Step   7\n",
      "  input: 26 ('A')\n",
      "  expected output: 27 ('B')\n",
      "Step   8\n",
      "  input: 27 ('B')\n",
      "  expected output: 59 ('d')\n",
      "Step   9\n",
      "  input: 59 ('d')\n",
      "  expected output: 60 ('e')\n"
     ]
    }
   ],
   "source": [
    "x_batch, y_batch = get_batch(vectorized_songs, seq_length=10, batch_size=1)\n",
    "for i, (input_idx, target_idx) in enumerate(zip(np.squeeze(x_batch),np.squeeze(y_batch))):\n",
    "    print(\"Step {:3d}\".format(i))\n",
    "    print(\"  input: {} ({:s})\".format(input_idx, repr(idx2char[input_idx])))\n",
    "    print(\"  expected output: {} ({:s})\".format(target_idx, repr(idx2char[target_idx])))    "
   ]
  },
  {
   "cell_type": "code",
   "execution_count": 47,
   "id": "bcabc7f6",
   "metadata": {},
   "outputs": [],
   "source": [
    "def LSTM(rnn_units):\n",
    "    return tf.keras.layers.LSTM(\n",
    "    rnn_units,\n",
    "    return_sequences=True,\n",
    "    recurrent_initializer='glorot_uniform',\n",
    "    recurrent_activation='sigmoid',\n",
    "    stateful=True\n",
    "    )"
   ]
  },
  {
   "cell_type": "code",
   "execution_count": 48,
   "id": "95e99239",
   "metadata": {},
   "outputs": [],
   "source": [
    "def build_model(vocab_size, embedding_dim, rnn_units, batch_size):\n",
    "    model = tf.keras.Sequential([\n",
    "        tf.keras.layers.Embedding(vocab_size, embedding_dim, batch_input_shape=[batch_size,None]),\n",
    "        LSTM(rnn_units),\n",
    "        tf.keras.layers.Dense(vocab_size)\n",
    "    ])\n",
    "    return model"
   ]
  },
  {
   "cell_type": "code",
   "execution_count": 49,
   "id": "045df581",
   "metadata": {},
   "outputs": [],
   "source": [
    "model = build_model(len(vocab),embedding_dim=256, rnn_units=1024,batch_size=32)"
   ]
  },
  {
   "cell_type": "code",
   "execution_count": 50,
   "id": "31ced9a7",
   "metadata": {},
   "outputs": [
    {
     "name": "stdout",
     "output_type": "stream",
     "text": [
      "Model: \"sequential\"\n",
      "_________________________________________________________________\n",
      "Layer (type)                 Output Shape              Param #   \n",
      "=================================================================\n",
      "embedding (Embedding)        (32, None, 256)           21248     \n",
      "_________________________________________________________________\n",
      "lstm (LSTM)                  (32, None, 1024)          5246976   \n",
      "_________________________________________________________________\n",
      "dense (Dense)                (32, None, 83)            85075     \n",
      "=================================================================\n",
      "Total params: 5,353,299\n",
      "Trainable params: 5,353,299\n",
      "Non-trainable params: 0\n",
      "_________________________________________________________________\n"
     ]
    }
   ],
   "source": [
    "model.summary()"
   ]
  },
  {
   "cell_type": "code",
   "execution_count": 62,
   "id": "4b657c09",
   "metadata": {},
   "outputs": [
    {
     "name": "stdout",
     "output_type": "stream",
     "text": [
      "Input shape:       (32, 5)  # (batch_size, sequence_length)\n",
      "Prediction shape:  (32, 5, 83) # (batch_size, sequence_length, vocab_size)\n"
     ]
    }
   ],
   "source": [
    "x, y = get_batch(vectorized_songs, seq_length=5, batch_size=32)\n",
    "pred = model(x)\n",
    "print(\"Input shape:      \", x.shape, \" # (batch_size, sequence_length)\")\n",
    "print(\"Prediction shape: \", pred.shape, \"# (batch_size, sequence_length, vocab_size)\")"
   ]
  },
  {
   "cell_type": "code",
   "execution_count": 63,
   "id": "595033f7",
   "metadata": {},
   "outputs": [
    {
     "name": "stdout",
     "output_type": "stream",
     "text": [
      "(32, 5, 83)\n"
     ]
    }
   ],
   "source": [
    "print(pred.shape)"
   ]
  },
  {
   "cell_type": "code",
   "execution_count": 64,
   "id": "8ac1fc44",
   "metadata": {},
   "outputs": [
    {
     "data": {
      "text/plain": [
       "array([59, 38, 51, 54, 44], dtype=int64)"
      ]
     },
     "execution_count": 64,
     "metadata": {},
     "output_type": "execute_result"
    }
   ],
   "source": [
    "sampled_indices = tf.random.categorical(pred[0], num_samples=1)\n",
    "sampled_indices = tf.squeeze(sampled_indices,axis=-1).numpy()\n",
    "sampled_indices"
   ]
  },
  {
   "cell_type": "code",
   "execution_count": 65,
   "id": "15f10d87",
   "metadata": {},
   "outputs": [
    {
     "name": "stdout",
     "output_type": "stream",
     "text": [
      "Input: \n",
      " 'G|]!\\n'\n",
      "\n",
      "Next Char Predictions: \n",
      " 'dMZ^S'\n"
     ]
    }
   ],
   "source": [
    "print(\"Input: \\n\", repr(\"\".join(idx2char[x[0]])))\n",
    "print()\n",
    "print(\"Next Char Predictions: \\n\", repr(\"\".join(idx2char[sampled_indices])))\n"
   ]
  },
  {
   "cell_type": "code",
   "execution_count": 66,
   "id": "a7339f21",
   "metadata": {},
   "outputs": [],
   "source": [
    "def compute_loss(labels, logits):\n",
    "    loss = tf.keras.losses.sparse_categorical_crossentropy(labels, logits, from_logits=True)\n",
    "    return loss"
   ]
  },
  {
   "cell_type": "code",
   "execution_count": 67,
   "id": "455d0581",
   "metadata": {},
   "outputs": [],
   "source": [
    "example_batch_loss = compute_loss(y, pred)"
   ]
  },
  {
   "cell_type": "code",
   "execution_count": 68,
   "id": "ec1b554c",
   "metadata": {},
   "outputs": [
    {
     "name": "stdout",
     "output_type": "stream",
     "text": [
      "Prediction shape:  (32, 5, 83)  # (batch_size, sequence_length, vocab_size)\n",
      "scalar_loss:       4.4189825\n"
     ]
    }
   ],
   "source": [
    "print(\"Prediction shape: \", pred.shape, \" # (batch_size, sequence_length, vocab_size)\") \n",
    "print(\"scalar_loss:      \", example_batch_loss.numpy().mean())"
   ]
  },
  {
   "cell_type": "code",
   "execution_count": 69,
   "id": "af431a2f",
   "metadata": {},
   "outputs": [],
   "source": [
    "num_training_iterations = 2000\n",
    "batch_size = 4\n",
    "seq_length = 100\n",
    "learning_rate = 5e-3\n",
    "vocab_size = len(vocab)\n",
    "embedding_dim = 256\n",
    "rnn_units = 1024\n",
    "checkpoint_dir = './training_checkpoints'\n",
    "checkpoint_prefix = os.path.join(checkpoint_dir, \"my_ckpt\")"
   ]
  },
  {
   "cell_type": "code",
   "execution_count": 70,
   "id": "cbdaedff",
   "metadata": {},
   "outputs": [],
   "source": [
    "model = build_model(vocab_size, embedding_dim, rnn_units, batch_size)\n",
    "optimizer = tf.keras.optimizers.Adam(learning_rate)"
   ]
  },
  {
   "cell_type": "code",
   "execution_count": 71,
   "id": "e81e17cd",
   "metadata": {},
   "outputs": [],
   "source": [
    "@tf.function\n",
    "def train_step(x, y):\n",
    "    with tf.GradientTape() as tape:\n",
    "        y_hat = model(x)\n",
    "        loss = compute_loss(y, y_hat)\n",
    "    grads = tape.gradient(loss, model.trainable_variables) \n",
    "    optimizer.apply_gradients(zip(grads, model.trainable_variables))\n",
    "    return loss    "
   ]
  },
  {
   "cell_type": "code",
   "execution_count": 72,
   "id": "162d8b56",
   "metadata": {},
   "outputs": [
    {
     "data": {
      "image/png": "[encoded data removed]",
      "text/plain": [
       "<Figure size 432x288 with 1 Axes>"
      ]
     },
     "metadata": {},
     "output_type": "display_data"
    },
    {
     "name": "stderr",
     "output_type": "stream",
     "text": [
      "100%|████████████████████████████████████████████████████████████████████████████| 2000/2000 [1:23:17<00:00,  2.50s/it]\n"
     ]
    },
    {
     "data": {
      "image/png": "[encoded data removed]",
      "text/plain": [
       "<Figure size 432x288 with 1 Axes>"
      ]
     },
     "metadata": {
      "needs_background": "light"
     },
     "output_type": "display_data"
    }
   ],
   "source": [
    "history = []\n",
    "plotter = mdl.util.PeriodicPlotter(sec=2, xlabel='Iterations', ylabel='Loss')\n",
    "if hasattr(tqdm, '_instances'): tqdm._instances.clear() \n",
    "for iter in tqdm(range(num_training_iterations)):\n",
    "    x_batch, y_batch = get_batch(vectorized_songs, seq_length, batch_size)\n",
    "    loss = train_step(x_batch, y_batch)\n",
    "    history.append(loss.numpy().mean())\n",
    "    plotter.plot(history)\n",
    "    if iter % 100 == 0:     \n",
    "        model.save_weights(checkpoint_prefix)\n",
    "model.save_weights(checkpoint_prefix)"
   ]
  },
  {
   "cell_type": "code",
   "execution_count": 73,
   "id": "b97d358f",
   "metadata": {},
   "outputs": [
    {
     "name": "stdout",
     "output_type": "stream",
     "text": [
      "Model: \"sequential_2\"\n",
      "_________________________________________________________________\n",
      "Layer (type)                 Output Shape              Param #   \n",
      "=================================================================\n",
      "embedding_2 (Embedding)      (1, None, 256)            21248     \n",
      "_________________________________________________________________\n",
      "lstm_2 (LSTM)                (1, None, 1024)           5246976   \n",
      "_________________________________________________________________\n",
      "dense_2 (Dense)              (1, None, 83)             85075     \n",
      "=================================================================\n",
      "Total params: 5,353,299\n",
      "Trainable params: 5,353,299\n",
      "Non-trainable params: 0\n",
      "_________________________________________________________________\n"
     ]
    }
   ],
   "source": [
    "model = build_model(vocab_size, embedding_dim, rnn_units, batch_size=1)\n",
    "model.load_weights(tf.train.latest_checkpoint(checkpoint_dir))\n",
    "model.build(tf.TensorShape([1, None]))\n",
    "model.summary()"
   ]
  },
  {
   "cell_type": "code",
   "execution_count": 74,
   "id": "8df7c4b9",
   "metadata": {},
   "outputs": [],
   "source": [
    "def generate_text(model, start_string, generation_length=1000):\n",
    "        input_eval = [char2idx[s] for s in start_string]\n",
    "        input_eval = tf.expand_dims(input_eval, 0)\n",
    "        text_generated = []\n",
    "        model.reset_states()\n",
    "        tqdm._instances.clear()\n",
    "        for i in tqdm(range(generation_length)):\n",
    "            predictions = model(input_eval)\n",
    "            predictions = tf.squeeze(predictions, 0)\n",
    "            predicted_id = tf.random.categorical(predictions, num_samples=1)[-1,0].numpy()\n",
    "            input_eval = tf.expand_dims([predicted_id], 0)\n",
    "            text_generated.append(idx2char[predicted_id])\n",
    "        return (start_string + ''.join(text_generated))"
   ]
  },
  {
   "cell_type": "code",
   "execution_count": 75,
   "id": "b38387f8",
   "metadata": {},
   "outputs": [
    {
     "name": "stderr",
     "output_type": "stream",
     "text": [
      "100%|█████████████████████████████████████████████████████████████████████████████| 1000/1000 [00:07<00:00, 139.51it/s]\n"
     ]
    }
   ],
   "source": [
    "generated_text = generate_text(model, start_string=\"X\", generation_length=1000)"
   ]
  },
  {
   "cell_type": "code",
   "execution_count": 76,
   "id": "46389af2",
   "metadata": {},
   "outputs": [
    {
     "name": "stdout",
     "output_type": "stream",
     "text": [
      "Found 0 songs in text\n"
     ]
    }
   ],
   "source": [
    "generated_songs = mdl.lab1.extract_song_snippet(generated_text)\n",
    "for i, song in enumerate(generated_songs):\n",
    "    waveform = mdl.lab1.play_song(song)\n",
    "    if waveform:\n",
    "        print(\"Generated song\", i)\n",
    "        ipythondisplay.display(waveform)"
   ]
  },
  {
   "cell_type": "code",
   "execution_count": null,
   "id": "cf94621c",
   "metadata": {},
   "outputs": [],
   "source": []
  }
 ],
 "metadata": {
  "kernelspec": {
   "display_name": "Python 3",
   "language": "python",
   "name": "python3"
  },
  "language_info": {
   "codemirror_mode": {
    "name": "ipython",
    "version": 3
   },
   "file_extension": ".py",
   "mimetype": "text/x-python",
   "name": "python",
   "nbconvert_exporter": "python",
   "pygments_lexer": "ipython3",
   "version": "3.8.3"
  }
 },
 "nbformat": 4,
 "nbformat_minor": 5
}
