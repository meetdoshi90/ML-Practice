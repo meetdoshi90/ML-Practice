{
 "cells": [
  {
   "cell_type": "code",
   "execution_count": 1,
   "id": "8a1eec8a",
   "metadata": {},
   "outputs": [
    {
     "name": "stdout",
     "output_type": "stream",
     "text": [
      "WARNING:tensorflow:From C:\\Users\\meetd\\anaconda3\\lib\\site-packages\\tensorflow\\python\\compat\\v2_compat.py:96: disable_resource_variables (from tensorflow.python.ops.variable_scope) is deprecated and will be removed in a future version.\n",
      "Instructions for updating:\n",
      "non-resource variables are not supported in the long term\n"
     ]
    }
   ],
   "source": [
    "import math\n",
    "import numpy as np\n",
    "import h5py\n",
    "import matplotlib.pyplot as plt\n",
    "import scipy\n",
    "from PIL import Image\n",
    "from scipy import ndimage\n",
    "import tensorflow.compat.v1 as tf\n",
    "tf.disable_v2_behavior() \n",
    "from tensorflow.python.framework import ops\n",
    "from cnn_utils import *\n",
    "np.random.seed(1)\n",
    "tf.compat.v1.disable_eager_execution()"
   ]
  },
  {
   "cell_type": "code",
   "execution_count": 2,
   "id": "9bd4aa30",
   "metadata": {},
   "outputs": [],
   "source": [
    "x_train, y_train, x_test, y_test, classes = load_dataset()"
   ]
  },
  {
   "cell_type": "code",
   "execution_count": 3,
   "id": "39c5243f",
   "metadata": {},
   "outputs": [
    {
     "name": "stdout",
     "output_type": "stream",
     "text": [
      "y = 5\n"
     ]
    },
    {
     "data": {
      "image/png": "[encoded data removed]",
      "text/plain": [
       "<Figure size 432x288 with 1 Axes>"
      ]
     },
     "metadata": {
      "needs_background": "light"
     },
     "output_type": "display_data"
    }
   ],
   "source": [
    "plt.imshow(x_train[0])\n",
    "print(\"y = \" + str(np.squeeze(y_train[:,0])))"
   ]
  },
  {
   "cell_type": "code",
   "execution_count": 4,
   "id": "088d01df",
   "metadata": {},
   "outputs": [
    {
     "name": "stdout",
     "output_type": "stream",
     "text": [
      "Number of training examples = 1080\n",
      "Number of test examples = 120\n",
      "x_train shape = (1080, 64, 64, 3)\n",
      "x_test = (120, 64, 64, 3)\n",
      "y_train shape = (1080, 6)\n",
      "y_test = (120, 6)\n"
     ]
    }
   ],
   "source": [
    "x_train = x_train/255.\n",
    "x_test = x_test/255.\n",
    "y_train = convert_to_one_hot(y_train, 6).T\n",
    "y_test =  convert_to_one_hot(y_test, 6).T\n",
    "print(\"Number of training examples = \" + str(x_train.shape[0]))\n",
    "print(\"Number of test examples = \" + str(x_test.shape[0]))\n",
    "print(\"x_train shape = \" + str(x_train.shape))\n",
    "print(\"x_test = \" + str(x_test.shape))\n",
    "print(\"y_train shape = \" + str(y_train.shape))\n",
    "print(\"y_test = \" + str(y_test.shape))\n",
    "conv_layers = {}"
   ]
  },
  {
   "cell_type": "code",
   "execution_count": 5,
   "id": "2e29f66a",
   "metadata": {},
   "outputs": [],
   "source": [
    "def create_placeholders(n_H0, n_W0, n_C0, n_y):\n",
    "    x = tf.compat.v1.placeholder(tf.float32, [None, n_H0, n_W0, n_C0])\n",
    "    y = tf.compat.v1.placeholder(tf.float32, [None, n_y])\n",
    "    return x,y\n",
    "    "
   ]
  },
  {
   "cell_type": "code",
   "execution_count": 6,
   "id": "f49b5738",
   "metadata": {},
   "outputs": [
    {
     "name": "stdout",
     "output_type": "stream",
     "text": [
      "2.4.0\n",
      "X = Tensor(\"Placeholder:0\", shape=(?, 64, 64, 3), dtype=float32)\n",
      "Y = Tensor(\"Placeholder_1:0\", shape=(?, 6), dtype=float32)\n"
     ]
    }
   ],
   "source": [
    "print(tf.__version__)\n",
    "X, Y = create_placeholders(64, 64, 3, 6)\n",
    "print (\"X = \" + str(X))\n",
    "print (\"Y = \" + str(Y))"
   ]
  },
  {
   "cell_type": "code",
   "execution_count": 7,
   "id": "0dd3f6d4",
   "metadata": {},
   "outputs": [],
   "source": [
    "def initialize_parameters():\n",
    "    tf.compat.v1.set_random_seed(1)\n",
    "    W1 = tf.compat.v1.get_variable(\"W1\", [4,4,3,8], initializer = tf.compat.v1.keras.initializers.glorot_uniform(seed=0))\n",
    "    W2 = tf.compat.v1.get_variable(\"W2\", [2,2,8,16], initializer = tf.compat.v1.keras.initializers.glorot_uniform(seed=0))\n",
    "    parameters = {\"W1\" : W1,\n",
    "                  \"W2\" : W2}\n",
    "    return parameters"
   ]
  },
  {
   "cell_type": "code",
   "execution_count": 8,
   "id": "9b27883e",
   "metadata": {},
   "outputs": [
    {
     "name": "stdout",
     "output_type": "stream",
     "text": [
      "W1 = [ 0.00131723  0.1417614  -0.04434952  0.09197326  0.14984085 -0.03514394\n",
      " -0.06847463  0.05245192]\n",
      "W2 = [-0.08566415  0.17750949  0.11974221  0.16773748 -0.0830943  -0.08058\n",
      " -0.00577033 -0.14643836  0.24162132 -0.05857408 -0.19055021  0.1345228\n",
      " -0.22779644 -0.1601823  -0.16117483 -0.10286498]\n"
     ]
    }
   ],
   "source": [
    "tf.compat.v1.reset_default_graph()\n",
    "with tf.compat.v1.Session() as sess_test:\n",
    "    parameters = initialize_parameters()\n",
    "    init = tf.compat.v1.global_variables_initializer()\n",
    "    sess_test.run(init)\n",
    "    print(\"W1 = \" + str(parameters[\"W1\"].eval()[1,1,1]))\n",
    "    print(\"W2 = \" + str(parameters[\"W2\"].eval()[1,1,1]))"
   ]
  },
  {
   "cell_type": "code",
   "execution_count": 9,
   "id": "79aaa776",
   "metadata": {},
   "outputs": [],
   "source": [
    "from tensorflow import keras\n",
    "def forward_propagation(X, parameters):\n",
    "    W1 = parameters[\"W1\"]\n",
    "    W2 = parameters[\"W2\"]\n",
    "    Z1 = tf.compat.v1.nn.conv2d(X, W1, strides=[1,1,1,1], padding=\"SAME\")\n",
    "    A1 = tf.compat.v1.nn.relu(Z1)\n",
    "    P1 = tf.compat.v1.nn.max_pool(A1, ksize = [1,8,8,1], strides = [1,8,8,1], padding =\"SAME\")\n",
    "    Z2 = tf.compat.v1.nn.conv2d(P1,W2,strides=[1,1,1,1],padding=\"SAME\")\n",
    "    A2 = tf.compat.v1.nn.relu(Z2)\n",
    "    P2 = tf.compat.v1.nn.max_pool(A2, ksize = [1,4,4,1], strides = [1,4,4,1], padding = \"SAME\")\n",
    "    P = tf.compat.v1.layers.flatten(P2)\n",
    "    Z3 = tf.compat.v1.layers.dense(P, 6, activation=None)\n",
    "    return Z3\n",
    "    "
   ]
  },
  {
   "cell_type": "code",
   "execution_count": 10,
   "id": "372a2f1d",
   "metadata": {},
   "outputs": [
    {
     "name": "stdout",
     "output_type": "stream",
     "text": [
      "Z3 = [[ 0.9927579  -1.9926488   0.40574205 -1.0828865   0.5642381  -1.7546117 ]\n",
      " [ 0.93642586 -1.8676597   0.10536456 -1.0255287   0.7649098  -1.9162732 ]]\n"
     ]
    },
    {
     "name": "stderr",
     "output_type": "stream",
     "text": [
      "C:\\Users\\meetd\\anaconda3\\lib\\site-packages\\tensorflow\\python\\keras\\legacy_tf_layers\\core.py:329: UserWarning: `tf.layers.flatten` is deprecated and will be removed in a future version. Please use `tf.keras.layers.Flatten` instead.\n",
      "  warnings.warn('`tf.layers.flatten` is deprecated and '\n",
      "C:\\Users\\meetd\\anaconda3\\lib\\site-packages\\tensorflow\\python\\keras\\engine\\base_layer_v1.py:1719: UserWarning: `layer.apply` is deprecated and will be removed in a future version. Please use `layer.__call__` method instead.\n",
      "  warnings.warn('`layer.apply` is deprecated and '\n",
      "C:\\Users\\meetd\\anaconda3\\lib\\site-packages\\tensorflow\\python\\keras\\legacy_tf_layers\\core.py:171: UserWarning: `tf.layers.dense` is deprecated and will be removed in a future version. Please use `tf.keras.layers.Dense` instead.\n",
      "  warnings.warn('`tf.layers.dense` is deprecated and '\n"
     ]
    }
   ],
   "source": [
    "tf.compat.v1.reset_default_graph()\n",
    "\n",
    "with tf.compat.v1.Session() as sess:\n",
    "    np.random.seed(1)\n",
    "    X, Y = create_placeholders(64, 64, 3, 6)\n",
    "    parameters = initialize_parameters()\n",
    "    Z3 = forward_propagation(X, parameters)\n",
    "    init = tf.compat.v1.global_variables_initializer()\n",
    "    sess.run(init)\n",
    "    a = sess.run(Z3, {X: np.random.randn(2,64,64,3), Y: np.random.randn(2,6)})\n",
    "    print(\"Z3 = \" + str(a))"
   ]
  },
  {
   "cell_type": "code",
   "execution_count": 11,
   "id": "994b7c1f",
   "metadata": {},
   "outputs": [],
   "source": [
    "def compute_cost(Z3, Y):\n",
    "    cost = tf.reduce_mean(tf.nn.softmax_cross_entropy_with_logits(logits = Z3, labels =Y))\n",
    "    return cost"
   ]
  },
  {
   "cell_type": "code",
   "execution_count": 12,
   "id": "cc65bb62",
   "metadata": {},
   "outputs": [
    {
     "name": "stdout",
     "output_type": "stream",
     "text": [
      "Cost = 2.695238\n"
     ]
    }
   ],
   "source": [
    "tf.compat.v1.reset_default_graph()\n",
    "with tf.compat.v1.Session() as sess:\n",
    "    np.random.seed(1)\n",
    "    X, Y = create_placeholders(64,64,3,6)\n",
    "    parameters = initialize_parameters()\n",
    "    Z3 = forward_propagation(X, parameters)\n",
    "    cost = compute_cost(Z3, Y)\n",
    "    init = tf.compat.v1.global_variables_initializer()\n",
    "    sess.run(init)\n",
    "    a = sess.run(cost, {X: np.random.randn(4,64,64,3), Y:np.random.randn(4,6)})\n",
    "    print(\"Cost = \" + str(a))"
   ]
  },
  {
   "cell_type": "code",
   "execution_count": 13,
   "id": "aaf0bd78",
   "metadata": {},
   "outputs": [],
   "source": [
    "def model(X_train, Y_train, X_test, Y_test, learning_rate=0.009, num_epochs = 100, minibatch_size = 64, print_cost =True):\n",
    "    ops.reset_default_graph()\n",
    "    tf.compat.v1.set_random_seed(1)\n",
    "    seed = 3\n",
    "    (m, n_H0, n_W0, n_C0) = X_train.shape\n",
    "    n_y = Y_train.shape[1]\n",
    "    costs = []\n",
    "    X, Y = create_placeholders(n_H0, n_W0, n_C0, n_y)\n",
    "    parameters = initialize_parameters()\n",
    "    Z3 = forward_propagation(X, parameters)\n",
    "    cost = compute_cost(Z3, Y)\n",
    "    optimizer = tf.compat.v1.train.AdamOptimizer(learning_rate = learning_rate).minimize(cost)\n",
    "    init = tf.compat.v1.global_variables_initializer()\n",
    "    with tf.compat.v1.Session() as sess:\n",
    "        sess.run(init)\n",
    "        for epoch in range(num_epochs):\n",
    "            minibatch_cost = 0.\n",
    "            num_minibatches = int(m/minibatch_size)\n",
    "            seed = seed + 1\n",
    "            minibatches = random_mini_batches(X_train, Y_train, minibatch_size, seed)\n",
    "            for minibatch in minibatches:\n",
    "                (minibatch_X, minibatch_Y) = minibatch\n",
    "                _, temp_cost = sess.run([optimizer, cost], feed_dict = {X:minibatch_X, Y:minibatch_Y})\n",
    "                minibatch_cost += temp_cost / num_minibatches\n",
    "            if print_cost == True and epoch%5==0:\n",
    "                print(\"Cost after epoch {} : {}\".format(epoch, minibatch_cost))\n",
    "            if print_cost == True and epoch%1==0:\n",
    "                costs.append(minibatch_cost)\n",
    "        plt.plot(np.squeeze(costs))\n",
    "        plt.ylabel('cost')\n",
    "        plt.xlabel('iterations (per tens)')\n",
    "        plt.title(\"Learning rate =\" + str(learning_rate))\n",
    "        plt.show()\n",
    "        predict_op = tf.argmax(Z3, 1)\n",
    "        correct_prediction = tf.equal(predict_op, tf.argmax(Y, 1))\n",
    "        accuracy = tf.reduce_mean(tf.cast(correct_prediction, \"float\"))\n",
    "        print(accuracy)\n",
    "        train_accuracy = accuracy.eval({X: X_train, Y: Y_train})\n",
    "        test_accuracy = accuracy.eval({X: X_test, Y: Y_test})\n",
    "        print(\"Train Accuracy:\", train_accuracy)\n",
    "        print(\"Test Accuracy:\", test_accuracy)\n",
    "                \n",
    "        return train_accuracy, test_accuracy, parameters"
   ]
  },
  {
   "cell_type": "code",
   "execution_count": 16,
   "id": "934a587d",
   "metadata": {
    "scrolled": true
   },
   "outputs": [
    {
     "name": "stderr",
     "output_type": "stream",
     "text": [
      "C:\\Users\\meetd\\anaconda3\\lib\\site-packages\\tensorflow\\python\\keras\\legacy_tf_layers\\core.py:329: UserWarning: `tf.layers.flatten` is deprecated and will be removed in a future version. Please use `tf.keras.layers.Flatten` instead.\n",
      "  warnings.warn('`tf.layers.flatten` is deprecated and '\n",
      "C:\\Users\\meetd\\anaconda3\\lib\\site-packages\\tensorflow\\python\\keras\\engine\\base_layer_v1.py:1719: UserWarning: `layer.apply` is deprecated and will be removed in a future version. Please use `layer.__call__` method instead.\n",
      "  warnings.warn('`layer.apply` is deprecated and '\n",
      "C:\\Users\\meetd\\anaconda3\\lib\\site-packages\\tensorflow\\python\\keras\\legacy_tf_layers\\core.py:171: UserWarning: `tf.layers.dense` is deprecated and will be removed in a future version. Please use `tf.keras.layers.Dense` instead.\n",
      "  warnings.warn('`tf.layers.dense` is deprecated and '\n"
     ]
    },
    {
     "name": "stdout",
     "output_type": "stream",
     "text": [
      "Cost after epoch 0 : 1.917299635708332\n",
      "Cost after epoch 5 : 1.677077017724514\n",
      "Cost after epoch 10 : 0.9828307516872883\n",
      "Cost after epoch 15 : 0.7407933920621872\n",
      "Cost after epoch 20 : 0.5115265566855669\n",
      "Cost after epoch 25 : 0.42088971100747585\n",
      "Cost after epoch 30 : 0.35969770047813654\n",
      "Cost after epoch 35 : 0.32027685083448887\n",
      "Cost after epoch 40 : 0.28114498034119606\n",
      "Cost after epoch 45 : 0.24407089548185468\n",
      "Cost after epoch 50 : 0.19896329008042812\n",
      "Cost after epoch 55 : 0.1786839971318841\n",
      "Cost after epoch 60 : 0.16206553811207414\n",
      "Cost after epoch 65 : 0.15422361763194203\n",
      "Cost after epoch 70 : 0.1286064963787794\n",
      "Cost after epoch 75 : 0.13901575398631394\n",
      "Cost after epoch 80 : 0.13717522285878658\n",
      "Cost after epoch 85 : 0.11046412633731961\n",
      "Cost after epoch 90 : 0.0835506219882518\n",
      "Cost after epoch 95 : 0.09242447896394879\n",
      "Cost after epoch 100 : 0.09128866135142744\n",
      "Cost after epoch 105 : 0.0640189757104963\n",
      "Cost after epoch 110 : 0.0883987455163151\n",
      "Cost after epoch 115 : 0.05719455785583705\n",
      "Cost after epoch 120 : 0.04567772813607007\n",
      "Cost after epoch 125 : 0.050782907754182816\n",
      "Cost after epoch 130 : 0.046794451773166656\n",
      "Cost after epoch 135 : 0.04842729785013944\n",
      "Cost after epoch 140 : 0.029657807550393045\n",
      "Cost after epoch 145 : 0.029863374424166977\n",
      "Cost after epoch 150 : 0.03040898806648329\n",
      "Cost after epoch 155 : 0.02199158672010526\n",
      "Cost after epoch 160 : 0.020693221944384277\n",
      "Cost after epoch 165 : 0.034615700191352516\n",
      "Cost after epoch 170 : 0.034194576961454004\n",
      "Cost after epoch 175 : 0.02118778572184965\n",
      "Cost after epoch 180 : 0.036076870223041624\n",
      "Cost after epoch 185 : 0.01611090256483294\n",
      "Cost after epoch 190 : 0.011712349456502125\n",
      "Cost after epoch 195 : 0.010467598942341283\n"
     ]
    },
    {
     "data": {
      "image/png": "[encoded data removed]",
      "text/plain": [
       "<Figure size 432x288 with 1 Axes>"
      ]
     },
     "metadata": {
      "needs_background": "light"
     },
     "output_type": "display_data"
    },
    {
     "name": "stdout",
     "output_type": "stream",
     "text": [
      "Tensor(\"Mean_1:0\", shape=(), dtype=float32)\n",
      "Train Accuracy: 1.0\n",
      "Test Accuracy: 0.9166667\n"
     ]
    }
   ],
   "source": [
    "_, _, parameters = model(x_train, y_train, x_test, y_test, num_epochs=200, learning_rate=0.005)"
   ]
  },
  {
   "cell_type": "code",
   "execution_count": 17,
   "id": "2f116e7d",
   "metadata": {},
   "outputs": [
    {
     "data": {
      "text/plain": [
       "<matplotlib.image.AxesImage at 0x2390c14f070>"
      ]
     },
     "execution_count": 17,
     "metadata": {},
     "output_type": "execute_result"
    },
    {
     "data": {
      "image/png": "[encoded data removed]",
      "text/plain": [
       "<Figure size 432x288 with 1 Axes>"
      ]
     },
     "metadata": {
      "needs_background": "light"
     },
     "output_type": "display_data"
    }
   ],
   "source": [
    "import cv2\n",
    "fname = \"images/thumbs_up.jpg\"\n",
    "image = cv2.imread(fname)\n",
    "my_image = cv2.resize(image, (64,64))\n",
    "plt.imshow(my_image)"
   ]
  },
  {
   "cell_type": "code",
   "execution_count": null,
   "id": "893f463a",
   "metadata": {},
   "outputs": [],
   "source": []
  }
 ],
 "metadata": {
  "kernelspec": {
   "display_name": "Python 3",
   "language": "python",
   "name": "python3"
  },
  "language_info": {
   "codemirror_mode": {
    "name": "ipython",
    "version": 3
   },
   "file_extension": ".py",
   "mimetype": "text/x-python",
   "name": "python",
   "nbconvert_exporter": "python",
   "pygments_lexer": "ipython3",
   "version": "3.8.3"
  }
 },
 "nbformat": 4,
 "nbformat_minor": 5
}
