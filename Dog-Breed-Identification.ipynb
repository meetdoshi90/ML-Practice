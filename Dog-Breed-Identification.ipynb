{
 "cells": [
  {
   "cell_type": "code",
   "execution_count": 3,
   "id": "895c8d68",
   "metadata": {},
   "outputs": [],
   "source": [
    "import numpy as np\n",
    "import pandas as pd\n",
    "import matplotlib.pyplot as plt\n",
    "import tensorflow as tf\n",
    "import os\n",
    "import cv2\n",
    "import seaborn as sns"
   ]
  },
  {
   "cell_type": "code",
   "execution_count": 4,
   "id": "a6b08e79",
   "metadata": {},
   "outputs": [
    {
     "name": "stdout",
     "output_type": "stream",
     "text": [
      "Train size =  10222\n",
      "Test size =  10357\n"
     ]
    }
   ],
   "source": [
    "train_files = os.listdir(r\"C:\\Users\\meetd\\OneDrive\\Desktop\\Datasets\\dog-breed\\train\")\n",
    "test_files = os.listdir(r\"C:\\Users\\meetd\\OneDrive\\Desktop\\Datasets\\dog-breed\\test\")\n",
    "print(\"Train size = \", len(train_files))\n",
    "print(\"Test size = \", len(test_files))"
   ]
  },
  {
   "cell_type": "code",
   "execution_count": 5,
   "id": "cf1a4815",
   "metadata": {},
   "outputs": [
    {
     "data": {
      "text/html": [
       "<div>\n",
       "<style scoped>\n",
       "    .dataframe tbody tr th:only-of-type {\n",
       "        vertical-align: middle;\n",
       "    }\n",
       "\n",
       "    .dataframe tbody tr th {\n",
       "        vertical-align: top;\n",
       "    }\n",
       "\n",
       "    .dataframe thead th {\n",
       "        text-align: right;\n",
       "    }\n",
       "</style>\n",
       "<table border=\"1\" class=\"dataframe\">\n",
       "  <thead>\n",
       "    <tr style=\"text-align: right;\">\n",
       "      <th></th>\n",
       "      <th>id</th>\n",
       "      <th>breed</th>\n",
       "    </tr>\n",
       "  </thead>\n",
       "  <tbody>\n",
       "    <tr>\n",
       "      <th>0</th>\n",
       "      <td>000bec180eb18c7604dcecc8fe0dba07</td>\n",
       "      <td>boston_bull</td>\n",
       "    </tr>\n",
       "    <tr>\n",
       "      <th>1</th>\n",
       "      <td>001513dfcb2ffafc82cccf4d8bbaba97</td>\n",
       "      <td>dingo</td>\n",
       "    </tr>\n",
       "    <tr>\n",
       "      <th>2</th>\n",
       "      <td>001cdf01b096e06d78e9e5112d419397</td>\n",
       "      <td>pekinese</td>\n",
       "    </tr>\n",
       "    <tr>\n",
       "      <th>3</th>\n",
       "      <td>00214f311d5d2247d5dfe4fe24b2303d</td>\n",
       "      <td>bluetick</td>\n",
       "    </tr>\n",
       "    <tr>\n",
       "      <th>4</th>\n",
       "      <td>0021f9ceb3235effd7fcde7f7538ed62</td>\n",
       "      <td>golden_retriever</td>\n",
       "    </tr>\n",
       "  </tbody>\n",
       "</table>\n",
       "</div>"
      ],
      "text/plain": [
       "                                 id             breed\n",
       "0  000bec180eb18c7604dcecc8fe0dba07       boston_bull\n",
       "1  001513dfcb2ffafc82cccf4d8bbaba97             dingo\n",
       "2  001cdf01b096e06d78e9e5112d419397          pekinese\n",
       "3  00214f311d5d2247d5dfe4fe24b2303d          bluetick\n",
       "4  0021f9ceb3235effd7fcde7f7538ed62  golden_retriever"
      ]
     },
     "execution_count": 5,
     "metadata": {},
     "output_type": "execute_result"
    }
   ],
   "source": [
    "labels = pd.read_csv(r'C:\\Users\\meetd\\OneDrive\\Desktop\\Datasets\\dog-breed\\labels.csv')\n",
    "labels.head()"
   ]
  },
  {
   "cell_type": "code",
   "execution_count": 6,
   "id": "946a21ee",
   "metadata": {},
   "outputs": [
    {
     "name": "stdout",
     "output_type": "stream",
     "text": [
      "120\n"
     ]
    }
   ],
   "source": [
    "dog_breeds = sorted(labels['breed'].unique())\n",
    "num_classes = len(dog_breeds)\n",
    "print(num_classes)"
   ]
  },
  {
   "cell_type": "code",
   "execution_count": 7,
   "id": "b1c81c13",
   "metadata": {},
   "outputs": [
    {
     "data": {
      "text/plain": [
       "['affenpinscher',\n",
       " 'afghan_hound',\n",
       " 'african_hunting_dog',\n",
       " 'airedale',\n",
       " 'american_staffordshire_terrier',\n",
       " 'appenzeller',\n",
       " 'australian_terrier',\n",
       " 'basenji',\n",
       " 'basset',\n",
       " 'beagle',\n",
       " 'bedlington_terrier',\n",
       " 'bernese_mountain_dog',\n",
       " 'black-and-tan_coonhound',\n",
       " 'blenheim_spaniel',\n",
       " 'bloodhound',\n",
       " 'bluetick',\n",
       " 'border_collie',\n",
       " 'border_terrier',\n",
       " 'borzoi',\n",
       " 'boston_bull',\n",
       " 'bouvier_des_flandres',\n",
       " 'boxer',\n",
       " 'brabancon_griffon',\n",
       " 'briard',\n",
       " 'brittany_spaniel',\n",
       " 'bull_mastiff',\n",
       " 'cairn',\n",
       " 'cardigan',\n",
       " 'chesapeake_bay_retriever',\n",
       " 'chihuahua',\n",
       " 'chow',\n",
       " 'clumber',\n",
       " 'cocker_spaniel',\n",
       " 'collie',\n",
       " 'curly-coated_retriever',\n",
       " 'dandie_dinmont',\n",
       " 'dhole',\n",
       " 'dingo',\n",
       " 'doberman',\n",
       " 'english_foxhound',\n",
       " 'english_setter',\n",
       " 'english_springer',\n",
       " 'entlebucher',\n",
       " 'eskimo_dog',\n",
       " 'flat-coated_retriever',\n",
       " 'french_bulldog',\n",
       " 'german_shepherd',\n",
       " 'german_short-haired_pointer',\n",
       " 'giant_schnauzer',\n",
       " 'golden_retriever',\n",
       " 'gordon_setter',\n",
       " 'great_dane',\n",
       " 'great_pyrenees',\n",
       " 'greater_swiss_mountain_dog',\n",
       " 'groenendael',\n",
       " 'ibizan_hound',\n",
       " 'irish_setter',\n",
       " 'irish_terrier',\n",
       " 'irish_water_spaniel',\n",
       " 'irish_wolfhound',\n",
       " 'italian_greyhound',\n",
       " 'japanese_spaniel',\n",
       " 'keeshond',\n",
       " 'kelpie',\n",
       " 'kerry_blue_terrier',\n",
       " 'komondor',\n",
       " 'kuvasz',\n",
       " 'labrador_retriever',\n",
       " 'lakeland_terrier',\n",
       " 'leonberg',\n",
       " 'lhasa',\n",
       " 'malamute',\n",
       " 'malinois',\n",
       " 'maltese_dog',\n",
       " 'mexican_hairless',\n",
       " 'miniature_pinscher',\n",
       " 'miniature_poodle',\n",
       " 'miniature_schnauzer',\n",
       " 'newfoundland',\n",
       " 'norfolk_terrier',\n",
       " 'norwegian_elkhound',\n",
       " 'norwich_terrier',\n",
       " 'old_english_sheepdog',\n",
       " 'otterhound',\n",
       " 'papillon',\n",
       " 'pekinese',\n",
       " 'pembroke',\n",
       " 'pomeranian',\n",
       " 'pug',\n",
       " 'redbone',\n",
       " 'rhodesian_ridgeback',\n",
       " 'rottweiler',\n",
       " 'saint_bernard',\n",
       " 'saluki',\n",
       " 'samoyed',\n",
       " 'schipperke',\n",
       " 'scotch_terrier',\n",
       " 'scottish_deerhound',\n",
       " 'sealyham_terrier',\n",
       " 'shetland_sheepdog',\n",
       " 'shih-tzu',\n",
       " 'siberian_husky',\n",
       " 'silky_terrier',\n",
       " 'soft-coated_wheaten_terrier',\n",
       " 'staffordshire_bullterrier',\n",
       " 'standard_poodle',\n",
       " 'standard_schnauzer',\n",
       " 'sussex_spaniel',\n",
       " 'tibetan_mastiff',\n",
       " 'tibetan_terrier',\n",
       " 'toy_poodle',\n",
       " 'toy_terrier',\n",
       " 'vizsla',\n",
       " 'walker_hound',\n",
       " 'weimaraner',\n",
       " 'welsh_springer_spaniel',\n",
       " 'west_highland_white_terrier',\n",
       " 'whippet',\n",
       " 'wire-haired_fox_terrier',\n",
       " 'yorkshire_terrier']"
      ]
     },
     "execution_count": 7,
     "metadata": {},
     "output_type": "execute_result"
    }
   ],
   "source": [
    "dog_breeds"
   ]
  },
  {
   "cell_type": "code",
   "execution_count": 8,
   "id": "8a7db9da",
   "metadata": {},
   "outputs": [],
   "source": [
    "classes_to_num = dict(zip(dog_breeds,range(num_classes)))"
   ]
  },
  {
   "cell_type": "code",
   "execution_count": 13,
   "id": "13530969",
   "metadata": {},
   "outputs": [],
   "source": [
    "from tensorflow.keras.preprocessing.image import load_img\n",
    "from tensorflow.keras.utils import to_categorical\n",
    "def images_to_array(data_dir, labels, image_size):\n",
    "    image_names = labels['id']\n",
    "    image_labels = labels['breed']\n",
    "    data_size = len(image_names)\n",
    "    x = np.zeros([data_size,image_size[0],image_size[1],image_size[2]],dtype=np.uint8)\n",
    "    y = np.zeros([data_size,1],dtype = np.uint8)\n",
    "    for i in range(data_size):\n",
    "        img_name = image_names[i]\n",
    "        img_dir = os.path.join(data_dir, img_name+'.jpg')\n",
    "        img_pixels = load_img(img_dir,target_size=image_size)\n",
    "        x[i] = img_pixels\n",
    "        y[i] = classes_to_num[image_labels[i]]\n",
    "    y = to_categorical(y)\n",
    "    ind = np.random.permutation(data_size)\n",
    "    x = x[ind]\n",
    "    y = y[ind]\n",
    "    print('Ouptut Data Size: ', x.shape)\n",
    "    print('Ouptut Label Size: ', y.shape)\n",
    "    return x, y"
   ]
  },
  {
   "cell_type": "code",
   "execution_count": 14,
   "id": "85014ea8",
   "metadata": {},
   "outputs": [
    {
     "name": "stdout",
     "output_type": "stream",
     "text": [
      "Ouptut Data Size:  (10222, 299, 299, 3)\n",
      "Ouptut Label Size:  (10222, 120)\n"
     ]
    }
   ],
   "source": [
    "img_size = (299,299,3)\n",
    "x, y = images_to_array(r\"C:\\Users\\meetd\\OneDrive\\Desktop\\Datasets\\dog-breed\\train\", labels, img_size)"
   ]
  },
  {
   "cell_type": "code",
   "execution_count": 16,
   "id": "56ff65ff",
   "metadata": {},
   "outputs": [],
   "source": [
    "from tensorflow.keras.models import Model\n",
    "from tensorflow.keras.layers import BatchNormalization, Dense, GlobalAveragePooling2D, Lambda, Dropout, InputLayer, Input\n",
    "\n",
    "def get_features(model_name, data_preprocessor, input_size, data):\n",
    "    input_layer = Input(input_size)\n",
    "    preprocessor = Lambda(data_preprocessor)(input_layer)\n",
    "    base_model = model_name(weights='imagenet', include_top=False,\n",
    "                            input_shape=input_size)(preprocessor)\n",
    "    avg = GlobalAveragePooling2D()(base_model)\n",
    "    feature_extractor = Model(inputs = input_layer, outputs = avg)\n",
    "    feature_maps = feature_extractor.predict(data, batch_size=32, verbose=1)\n",
    "    print('Feature maps shape: ', feature_maps.shape)\n",
    "    return feature_maps"
   ]
  },
  {
   "cell_type": "code",
   "execution_count": 18,
   "id": "643b5144",
   "metadata": {},
   "outputs": [
    {
     "name": "stdout",
     "output_type": "stream",
     "text": [
      "Downloading data from https://storage.googleapis.com/tensorflow/keras-applications/inception_v3/inception_v3_weights_tf_dim_ordering_tf_kernels_notop.h5\n",
      "87916544/87910968 [==============================] - 9s 0us/step\n",
      "320/320 [==============================] - 1072s 3s/step\n",
      "Feature maps shape:  (10222, 2048)\n"
     ]
    }
   ],
   "source": [
    "from tensorflow.keras.applications.inception_v3 import InceptionV3, preprocess_input\n",
    "inception_preprocessor = preprocess_input\n",
    "inception_features = get_features(InceptionV3,\n",
    "                                  inception_preprocessor,\n",
    "                                  img_size, x)"
   ]
  },
  {
   "cell_type": "code",
   "execution_count": 19,
   "id": "30b6e56c",
   "metadata": {},
   "outputs": [
    {
     "name": "stdout",
     "output_type": "stream",
     "text": [
      "Downloading data from https://storage.googleapis.com/tensorflow/keras-applications/xception/xception_weights_tf_dim_ordering_tf_kernels_notop.h5\n",
      "83689472/83683744 [==============================] - 9s 0us/step\n",
      "320/320 [==============================] - 1709s 5s/step\n",
      "Feature maps shape:  (10222, 2048)\n"
     ]
    }
   ],
   "source": [
    "from tensorflow.keras.applications.xception import Xception, preprocess_input\n",
    "xception_preprocessor = preprocess_input\n",
    "xception_features = get_features(Xception,\n",
    "                                 xception_preprocessor,\n",
    "                                 img_size, x)"
   ]
  },
  {
   "cell_type": "code",
   "execution_count": 21,
   "id": "db582268",
   "metadata": {},
   "outputs": [
    {
     "name": "stdout",
     "output_type": "stream",
     "text": [
      "Downloading data from https://storage.googleapis.com/tensorflow/keras-applications/inception_resnet_v2/inception_resnet_v2_weights_tf_dim_ordering_tf_kernels_notop.h5\n",
      "219062272/219055592 [==============================] - 25s 0us/step\n",
      "320/320 [==============================] - 2157s 7s/step\n",
      "Feature maps shape:  (10222, 1536)\n"
     ]
    }
   ],
   "source": [
    "from tensorflow.keras.applications.inception_resnet_v2 import InceptionResNetV2, preprocess_input\n",
    "inc_resnet_preprocessor = preprocess_input\n",
    "inc_resnet_features = get_features(InceptionResNetV2,\n",
    "                                   inc_resnet_preprocessor,\n",
    "                                   img_size, x)"
   ]
  },
  {
   "cell_type": "code",
   "execution_count": 22,
   "id": "c236ecaf",
   "metadata": {},
   "outputs": [
    {
     "name": "stdout",
     "output_type": "stream",
     "text": [
      "Final feature maps shape (10222, 5632)\n"
     ]
    }
   ],
   "source": [
    "final_features = np.concatenate([inception_features,\n",
    "                                 xception_features,\n",
    "                                 inc_resnet_features,], axis=-1)\n",
    "print('Final feature maps shape', final_features.shape)"
   ]
  },
  {
   "cell_type": "code",
   "execution_count": 23,
   "id": "d675d15f",
   "metadata": {},
   "outputs": [],
   "source": [
    "del x"
   ]
  },
  {
   "cell_type": "code",
   "execution_count": 24,
   "id": "316dbed1",
   "metadata": {},
   "outputs": [],
   "source": [
    "from tensorflow.keras.callbacks import EarlyStopping\n",
    "EarlyStop_callback = EarlyStopping(monitor='val_loss', patience=10, restore_best_weights=True)\n",
    "my_callback=[EarlyStop_callback]"
   ]
  },
  {
   "cell_type": "code",
   "execution_count": 25,
   "id": "c7582b4e",
   "metadata": {},
   "outputs": [],
   "source": [
    "from tensorflow.keras.models import Sequential\n",
    "model = Sequential()\n",
    "model.add(InputLayer(final_features.shape[1:]))\n",
    "model.add(Dropout(0.7))\n",
    "model.add(Dense(120,activation='softmax'))"
   ]
  },
  {
   "cell_type": "code",
   "execution_count": 26,
   "id": "592d872d",
   "metadata": {},
   "outputs": [],
   "source": [
    "model.compile(optimizer='adam',\n",
    "            loss='categorical_crossentropy',\n",
    "            metrics=['accuracy'])"
   ]
  },
  {
   "cell_type": "code",
   "execution_count": 27,
   "id": "f09e3603",
   "metadata": {},
   "outputs": [
    {
     "name": "stdout",
     "output_type": "stream",
     "text": [
      "Epoch 1/50\n",
      "288/288 [==============================] - 3s 8ms/step - loss: 0.8543 - accuracy: 0.7976 - val_loss: 0.3158 - val_accuracy: 0.9052\n",
      "Epoch 2/50\n",
      "288/288 [==============================] - 2s 7ms/step - loss: 0.2714 - accuracy: 0.9153 - val_loss: 0.3237 - val_accuracy: 0.9013\n",
      "Epoch 3/50\n",
      "288/288 [==============================] - 2s 7ms/step - loss: 0.2134 - accuracy: 0.9310 - val_loss: 0.3356 - val_accuracy: 0.9110\n",
      "Epoch 4/50\n",
      "288/288 [==============================] - 2s 6ms/step - loss: 0.1810 - accuracy: 0.9371 - val_loss: 0.3270 - val_accuracy: 0.9042\n",
      "Epoch 5/50\n",
      "288/288 [==============================] - 2s 6ms/step - loss: 0.1577 - accuracy: 0.9459 - val_loss: 0.3494 - val_accuracy: 0.9071\n",
      "Epoch 6/50\n",
      "288/288 [==============================] - 2s 6ms/step - loss: 0.1420 - accuracy: 0.9499 - val_loss: 0.3227 - val_accuracy: 0.9071\n",
      "Epoch 7/50\n",
      "288/288 [==============================] - 2s 6ms/step - loss: 0.1177 - accuracy: 0.9586 - val_loss: 0.3599 - val_accuracy: 0.9042\n",
      "Epoch 8/50\n",
      "288/288 [==============================] - 2s 6ms/step - loss: 0.1189 - accuracy: 0.9573 - val_loss: 0.3390 - val_accuracy: 0.9150\n",
      "Epoch 9/50\n",
      "288/288 [==============================] - 2s 7ms/step - loss: 0.1146 - accuracy: 0.9601 - val_loss: 0.3802 - val_accuracy: 0.8983\n",
      "Epoch 10/50\n",
      "288/288 [==============================] - 2s 6ms/step - loss: 0.0903 - accuracy: 0.9673 - val_loss: 0.3772 - val_accuracy: 0.9110\n",
      "Epoch 11/50\n",
      "288/288 [==============================] - 2s 6ms/step - loss: 0.0924 - accuracy: 0.9671 - val_loss: 0.3742 - val_accuracy: 0.9189\n"
     ]
    }
   ],
   "source": [
    "history = model.fit(final_features,\n",
    "                  y,\n",
    "                  batch_size=32,\n",
    "                  epochs=50,\n",
    "                  validation_split=0.1,\n",
    "                  callbacks=my_callback)"
   ]
  },
  {
   "cell_type": "code",
   "execution_count": 28,
   "id": "21eb0239",
   "metadata": {},
   "outputs": [],
   "source": [
    "def images_to_array2(data_dir,df, img_size):\n",
    "    images_names = df['id']\n",
    "    data_size = len(images_names)\n",
    "    X = np.zeros([data_size, img_size[0], img_size[1], 3], dtype=np.uint8)\n",
    "    \n",
    "    for i in range(data_size):\n",
    "        image_name = images_names[i]\n",
    "        img_dir = os.path.join(data_dir, image_name+'.jpg')\n",
    "        img_pixels = load_img(img_dir, target_size=img_size)\n",
    "        X[i] = img_pixels\n",
    "        \n",
    "    print('Ouptut Data Size: ', X.shape)\n",
    "    return X"
   ]
  },
  {
   "cell_type": "code",
   "execution_count": 29,
   "id": "75e8dc83",
   "metadata": {},
   "outputs": [],
   "source": [
    "sample_df = pd.read_csv(r'C:\\Users\\meetd\\OneDrive\\Desktop\\Datasets\\dog-breed\\sample_submission.csv')"
   ]
  },
  {
   "cell_type": "code",
   "execution_count": 31,
   "id": "dea1f23a",
   "metadata": {},
   "outputs": [
    {
     "name": "stdout",
     "output_type": "stream",
     "text": [
      "Ouptut Data Size:  (10357, 299, 299, 3)\n"
     ]
    }
   ],
   "source": [
    "test_data = images_to_array2(r'C:\\Users\\meetd\\OneDrive\\Desktop\\Datasets\\dog-breed\\test', sample_df, img_size)"
   ]
  },
  {
   "cell_type": "code",
   "execution_count": 32,
   "id": "52d3d29c",
   "metadata": {},
   "outputs": [
    {
     "name": "stdout",
     "output_type": "stream",
     "text": [
      "324/324 [==============================] - 938s 3s/step\n",
      "Feature maps shape:  (10357, 2048)\n"
     ]
    }
   ],
   "source": [
    "inception_features = get_features(InceptionV3, inception_preprocessor, img_size, test_data)"
   ]
  },
  {
   "cell_type": "code",
   "execution_count": 33,
   "id": "3e97f132",
   "metadata": {},
   "outputs": [
    {
     "name": "stdout",
     "output_type": "stream",
     "text": [
      "324/324 [==============================] - 1472s 5s/step\n",
      "Feature maps shape:  (10357, 2048)\n"
     ]
    }
   ],
   "source": [
    "xception_features = get_features(Xception, xception_preprocessor, img_size, test_data)"
   ]
  },
  {
   "cell_type": "code",
   "execution_count": 34,
   "id": "aadb53cf",
   "metadata": {},
   "outputs": [
    {
     "name": "stdout",
     "output_type": "stream",
     "text": [
      "324/324 [==============================] - 2012s 6s/step\n",
      "Feature maps shape:  (10357, 1536)\n"
     ]
    }
   ],
   "source": [
    "inc_resnet_features = get_features(InceptionResNetV2, inc_resnet_preprocessor, img_size, test_data)"
   ]
  },
  {
   "cell_type": "code",
   "execution_count": 35,
   "id": "ed24821e",
   "metadata": {},
   "outputs": [
    {
     "name": "stdout",
     "output_type": "stream",
     "text": [
      "Final feature maps shape (10357, 5632)\n"
     ]
    }
   ],
   "source": [
    "test_features = np.concatenate([inception_features,\n",
    "                                 xception_features,\n",
    "                                 inc_resnet_features],axis=-1)\n",
    "print('Final feature maps shape', test_features.shape)"
   ]
  },
  {
   "cell_type": "code",
   "execution_count": 36,
   "id": "4674ee8e",
   "metadata": {},
   "outputs": [],
   "source": [
    "del test_data"
   ]
  },
  {
   "cell_type": "code",
   "execution_count": 37,
   "id": "7842544d",
   "metadata": {},
   "outputs": [],
   "source": [
    "y_pred = model.predict(test_features, batch_size=32)"
   ]
  },
  {
   "cell_type": "code",
   "execution_count": 40,
   "id": "f32eed2d",
   "metadata": {},
   "outputs": [],
   "source": [
    "for breed in dog_breeds:\n",
    "    sample_df[breed] = y_pred[:,classes_to_num[breed]]\n",
    "sample_df.to_csv(r'C:\\Users\\meetd\\OneDrive\\Desktop\\Datasets\\my_submission.csv', index=None)"
   ]
  },
  {
   "cell_type": "code",
   "execution_count": 41,
   "id": "8be2efad",
   "metadata": {},
   "outputs": [
    {
     "data": {
      "text/html": [
       "<div>\n",
       "<style scoped>\n",
       "    .dataframe tbody tr th:only-of-type {\n",
       "        vertical-align: middle;\n",
       "    }\n",
       "\n",
       "    .dataframe tbody tr th {\n",
       "        vertical-align: top;\n",
       "    }\n",
       "\n",
       "    .dataframe thead th {\n",
       "        text-align: right;\n",
       "    }\n",
       "</style>\n",
       "<table border=\"1\" class=\"dataframe\">\n",
       "  <thead>\n",
       "    <tr style=\"text-align: right;\">\n",
       "      <th></th>\n",
       "      <th>id</th>\n",
       "      <th>affenpinscher</th>\n",
       "      <th>afghan_hound</th>\n",
       "      <th>african_hunting_dog</th>\n",
       "      <th>airedale</th>\n",
       "      <th>american_staffordshire_terrier</th>\n",
       "      <th>appenzeller</th>\n",
       "      <th>australian_terrier</th>\n",
       "      <th>basenji</th>\n",
       "      <th>basset</th>\n",
       "      <th>...</th>\n",
       "      <th>toy_poodle</th>\n",
       "      <th>toy_terrier</th>\n",
       "      <th>vizsla</th>\n",
       "      <th>walker_hound</th>\n",
       "      <th>weimaraner</th>\n",
       "      <th>welsh_springer_spaniel</th>\n",
       "      <th>west_highland_white_terrier</th>\n",
       "      <th>whippet</th>\n",
       "      <th>wire-haired_fox_terrier</th>\n",
       "      <th>yorkshire_terrier</th>\n",
       "    </tr>\n",
       "  </thead>\n",
       "  <tbody>\n",
       "    <tr>\n",
       "      <th>0</th>\n",
       "      <td>000621fb3cbb32d8935728e48679680e</td>\n",
       "      <td>6.908525e-06</td>\n",
       "      <td>0.000003</td>\n",
       "      <td>0.000001</td>\n",
       "      <td>7.010412e-07</td>\n",
       "      <td>0.000002</td>\n",
       "      <td>0.000002</td>\n",
       "      <td>1.128423e-06</td>\n",
       "      <td>0.000001</td>\n",
       "      <td>0.000003</td>\n",
       "      <td>...</td>\n",
       "      <td>0.000005</td>\n",
       "      <td>1.195549e-06</td>\n",
       "      <td>0.000003</td>\n",
       "      <td>2.443184e-07</td>\n",
       "      <td>0.000003</td>\n",
       "      <td>4.982917e-07</td>\n",
       "      <td>7.224523e-07</td>\n",
       "      <td>9.541774e-07</td>\n",
       "      <td>7.531496e-07</td>\n",
       "      <td>0.000006</td>\n",
       "    </tr>\n",
       "    <tr>\n",
       "      <th>1</th>\n",
       "      <td>00102ee9d8eb90812350685311fe5890</td>\n",
       "      <td>4.867068e-06</td>\n",
       "      <td>0.000003</td>\n",
       "      <td>0.000003</td>\n",
       "      <td>4.193643e-06</td>\n",
       "      <td>0.000041</td>\n",
       "      <td>0.000020</td>\n",
       "      <td>8.194342e-06</td>\n",
       "      <td>0.000037</td>\n",
       "      <td>0.000017</td>\n",
       "      <td>...</td>\n",
       "      <td>0.000015</td>\n",
       "      <td>3.497116e-06</td>\n",
       "      <td>0.000013</td>\n",
       "      <td>2.242612e-05</td>\n",
       "      <td>0.000006</td>\n",
       "      <td>6.081425e-07</td>\n",
       "      <td>3.258623e-04</td>\n",
       "      <td>1.020651e-05</td>\n",
       "      <td>5.965836e-07</td>\n",
       "      <td>0.000007</td>\n",
       "    </tr>\n",
       "    <tr>\n",
       "      <th>2</th>\n",
       "      <td>0012a730dfa437f5f3613fb75efcd4ce</td>\n",
       "      <td>5.127299e-07</td>\n",
       "      <td>0.000056</td>\n",
       "      <td>0.000007</td>\n",
       "      <td>2.251797e-06</td>\n",
       "      <td>0.000001</td>\n",
       "      <td>0.000004</td>\n",
       "      <td>9.838795e-07</td>\n",
       "      <td>0.000001</td>\n",
       "      <td>0.000037</td>\n",
       "      <td>...</td>\n",
       "      <td>0.000003</td>\n",
       "      <td>5.461209e-07</td>\n",
       "      <td>0.000002</td>\n",
       "      <td>7.817844e-06</td>\n",
       "      <td>0.000008</td>\n",
       "      <td>2.100909e-05</td>\n",
       "      <td>4.470284e-07</td>\n",
       "      <td>2.775327e-05</td>\n",
       "      <td>3.682630e-07</td>\n",
       "      <td>0.000003</td>\n",
       "    </tr>\n",
       "    <tr>\n",
       "      <th>3</th>\n",
       "      <td>001510bc8570bbeee98c8d80c8a95ec1</td>\n",
       "      <td>2.428399e-05</td>\n",
       "      <td>0.000002</td>\n",
       "      <td>0.000002</td>\n",
       "      <td>5.901118e-07</td>\n",
       "      <td>0.000028</td>\n",
       "      <td>0.000012</td>\n",
       "      <td>1.454514e-06</td>\n",
       "      <td>0.000013</td>\n",
       "      <td>0.000013</td>\n",
       "      <td>...</td>\n",
       "      <td>0.000030</td>\n",
       "      <td>4.170742e-07</td>\n",
       "      <td>0.000003</td>\n",
       "      <td>4.036266e-07</td>\n",
       "      <td>0.000002</td>\n",
       "      <td>1.063759e-07</td>\n",
       "      <td>8.210928e-07</td>\n",
       "      <td>6.545527e-06</td>\n",
       "      <td>1.122516e-08</td>\n",
       "      <td>0.000009</td>\n",
       "    </tr>\n",
       "    <tr>\n",
       "      <th>4</th>\n",
       "      <td>001a5f3114548acdefa3d4da05474c2e</td>\n",
       "      <td>1.039411e-02</td>\n",
       "      <td>0.000089</td>\n",
       "      <td>0.000039</td>\n",
       "      <td>2.407017e-06</td>\n",
       "      <td>0.000127</td>\n",
       "      <td>0.000074</td>\n",
       "      <td>3.360310e-05</td>\n",
       "      <td>0.000094</td>\n",
       "      <td>0.000225</td>\n",
       "      <td>...</td>\n",
       "      <td>0.000119</td>\n",
       "      <td>2.909066e-05</td>\n",
       "      <td>0.000030</td>\n",
       "      <td>3.035041e-05</td>\n",
       "      <td>0.000014</td>\n",
       "      <td>4.715371e-06</td>\n",
       "      <td>1.583395e-05</td>\n",
       "      <td>3.116720e-04</td>\n",
       "      <td>8.699520e-06</td>\n",
       "      <td>0.001548</td>\n",
       "    </tr>\n",
       "  </tbody>\n",
       "</table>\n",
       "<p>5 rows × 121 columns</p>\n",
       "</div>"
      ],
      "text/plain": [
       "                                 id  affenpinscher  afghan_hound  \\\n",
       "0  000621fb3cbb32d8935728e48679680e   6.908525e-06      0.000003   \n",
       "1  00102ee9d8eb90812350685311fe5890   4.867068e-06      0.000003   \n",
       "2  0012a730dfa437f5f3613fb75efcd4ce   5.127299e-07      0.000056   \n",
       "3  001510bc8570bbeee98c8d80c8a95ec1   2.428399e-05      0.000002   \n",
       "4  001a5f3114548acdefa3d4da05474c2e   1.039411e-02      0.000089   \n",
       "\n",
       "   african_hunting_dog      airedale  american_staffordshire_terrier  \\\n",
       "0             0.000001  7.010412e-07                        0.000002   \n",
       "1             0.000003  4.193643e-06                        0.000041   \n",
       "2             0.000007  2.251797e-06                        0.000001   \n",
       "3             0.000002  5.901118e-07                        0.000028   \n",
       "4             0.000039  2.407017e-06                        0.000127   \n",
       "\n",
       "   appenzeller  australian_terrier   basenji    basset  ...  toy_poodle  \\\n",
       "0     0.000002        1.128423e-06  0.000001  0.000003  ...    0.000005   \n",
       "1     0.000020        8.194342e-06  0.000037  0.000017  ...    0.000015   \n",
       "2     0.000004        9.838795e-07  0.000001  0.000037  ...    0.000003   \n",
       "3     0.000012        1.454514e-06  0.000013  0.000013  ...    0.000030   \n",
       "4     0.000074        3.360310e-05  0.000094  0.000225  ...    0.000119   \n",
       "\n",
       "    toy_terrier    vizsla  walker_hound  weimaraner  welsh_springer_spaniel  \\\n",
       "0  1.195549e-06  0.000003  2.443184e-07    0.000003            4.982917e-07   \n",
       "1  3.497116e-06  0.000013  2.242612e-05    0.000006            6.081425e-07   \n",
       "2  5.461209e-07  0.000002  7.817844e-06    0.000008            2.100909e-05   \n",
       "3  4.170742e-07  0.000003  4.036266e-07    0.000002            1.063759e-07   \n",
       "4  2.909066e-05  0.000030  3.035041e-05    0.000014            4.715371e-06   \n",
       "\n",
       "   west_highland_white_terrier       whippet  wire-haired_fox_terrier  \\\n",
       "0                 7.224523e-07  9.541774e-07             7.531496e-07   \n",
       "1                 3.258623e-04  1.020651e-05             5.965836e-07   \n",
       "2                 4.470284e-07  2.775327e-05             3.682630e-07   \n",
       "3                 8.210928e-07  6.545527e-06             1.122516e-08   \n",
       "4                 1.583395e-05  3.116720e-04             8.699520e-06   \n",
       "\n",
       "   yorkshire_terrier  \n",
       "0           0.000006  \n",
       "1           0.000007  \n",
       "2           0.000003  \n",
       "3           0.000009  \n",
       "4           0.001548  \n",
       "\n",
       "[5 rows x 121 columns]"
      ]
     },
     "execution_count": 41,
     "metadata": {},
     "output_type": "execute_result"
    }
   ],
   "source": [
    "sample_df.head()"
   ]
  },
  {
   "cell_type": "code",
   "execution_count": null,
   "id": "e3b48ebc",
   "metadata": {},
   "outputs": [],
   "source": []
  }
 ],
 "metadata": {
  "kernelspec": {
   "display_name": "Python 3",
   "language": "python",
   "name": "python3"
  },
  "language_info": {
   "codemirror_mode": {
    "name": "ipython",
    "version": 3
   },
   "file_extension": ".py",
   "mimetype": "text/x-python",
   "name": "python",
   "nbconvert_exporter": "python",
   "pygments_lexer": "ipython3",
   "version": "3.9.5"
  }
 },
 "nbformat": 4,
 "nbformat_minor": 5
}
