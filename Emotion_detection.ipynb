{
 "cells": [
  {
   "cell_type": "code",
   "execution_count": 1,
   "id": "b7ac1652",
   "metadata": {},
   "outputs": [
    {
     "name": "stdout",
     "output_type": "stream",
     "text": [
      "2.6.0-dev20210603\n"
     ]
    }
   ],
   "source": [
    "import numpy as np\n",
    "import tensorflow\n",
    "print(tensorflow.__version__)\n",
    "import tensorflow.compat.v1 as tf\n",
    "from tensorflow.compat.v1.keras import layers\n",
    "from tensorflow.compat.v1.keras.layers import Input, Dense, Activation, ZeroPadding2D, BatchNormalization, Flatten, Conv2D\n",
    "from tensorflow.compat.v1.keras.layers import AveragePooling2D, MaxPooling2D, Dropout, GlobalMaxPooling2D, GlobalAveragePooling2D\n",
    "from tensorflow.compat.v1.keras.models import Model\n",
    "from tensorflow.compat.v1.keras.preprocessing import image\n",
    "from tensorflow.keras.utils import *\n",
    "from tensorflow.compat.v1.keras.utils import get_file\n",
    "from tensorflow.compat.v1.keras.applications.imagenet_utils import preprocess_input\n",
    "import pydot\n",
    "from IPython.display import SVG\n",
    "from tensorflow.compat.v1.keras.utils import model_to_dot\n",
    "from tensorflow.compat.v1.keras.utils import plot_model\n",
    "from kt_utils import *\n",
    "import tensorflow.compat.v1.keras.backend as K\n",
    "K.set_image_data_format('channels_last')\n",
    "import matplotlib.pyplot as plt\n",
    "from matplotlib.pyplot import imshow"
   ]
  },
  {
   "cell_type": "code",
   "execution_count": 12,
   "id": "018c8511",
   "metadata": {},
   "outputs": [
    {
     "name": "stdout",
     "output_type": "stream",
     "text": [
      "number of training examples = 600\n",
      "number of test examples = 150\n",
      "X_train shape: (600, 64, 64, 3)\n",
      "Y_train shape: (600, 1)\n",
      "X_test shape: (150, 64, 64, 3)\n",
      "Y_test shape: (150, 1)\n"
     ]
    }
   ],
   "source": [
    "X_train_orig, Y_train_orig, X_test_orig, Y_test_orig, classes = load_dataset()\n",
    "X_train = X_train_orig/255.\n",
    "X_test = X_test_orig/255.\n",
    "Y_train = Y_train_orig.T\n",
    "Y_test = Y_test_orig.T\n",
    "print (\"number of training examples = \" + str(X_train.shape[0]))\n",
    "print (\"number of test examples = \" + str(X_test.shape[0]))\n",
    "print (\"X_train shape: \" + str(X_train.shape))\n",
    "print (\"Y_train shape: \" + str(Y_train.shape))\n",
    "print (\"X_test shape: \" + str(X_test.shape))\n",
    "print (\"Y_test shape: \" + str(Y_test.shape))"
   ]
  },
  {
   "cell_type": "code",
   "execution_count": 13,
   "id": "20328cf2",
   "metadata": {},
   "outputs": [],
   "source": [
    "def HappyModel(input_shape):\n",
    "    X_input = Input(input_shape)\n",
    "    X = ZeroPadding2D((3, 3))(X_input)\n",
    "    X = Conv2D(32, (7, 7), strides = (1, 1), name = 'conv0')(X)\n",
    "    X = BatchNormalization(axis = 3, name = 'bn0')(X)\n",
    "    X = Activation('relu')(X)\n",
    "    X = MaxPooling2D((2, 2), name='max_pool')(X)\n",
    "    X = Flatten()(X)\n",
    "    X = Dense(1, activation='sigmoid', name='fc')(X)\n",
    "    model = Model(inputs = X_input, outputs = X, name='HappyModel')\n",
    "    return model"
   ]
  },
  {
   "cell_type": "code",
   "execution_count": 14,
   "id": "70a7461f",
   "metadata": {},
   "outputs": [],
   "source": [
    "happyModel = HappyModel(X_train.shape[1:])"
   ]
  },
  {
   "cell_type": "code",
   "execution_count": 15,
   "id": "c5ee5dc2",
   "metadata": {},
   "outputs": [],
   "source": [
    "happyModel.compile(optimizer = 'adam', loss = 'binary_crossentropy', metrics = [\"accuracy\"])"
   ]
  },
  {
   "cell_type": "code",
   "execution_count": 16,
   "id": "2e2582e5",
   "metadata": {},
   "outputs": [
    {
     "name": "stdout",
     "output_type": "stream",
     "text": [
      "Model: \"HappyModel\"\n",
      "_________________________________________________________________\n",
      "Layer (type)                 Output Shape              Param #   \n",
      "=================================================================\n",
      "input_2 (InputLayer)         [(None, 64, 64, 3)]       0         \n",
      "_________________________________________________________________\n",
      "zero_padding2d_1 (ZeroPaddin (None, 70, 70, 3)         0         \n",
      "_________________________________________________________________\n",
      "conv0 (Conv2D)               (None, 64, 64, 32)        4736      \n",
      "_________________________________________________________________\n",
      "bn0 (BatchNormalization)     (None, 64, 64, 32)        128       \n",
      "_________________________________________________________________\n",
      "activation_1 (Activation)    (None, 64, 64, 32)        0         \n",
      "_________________________________________________________________\n",
      "max_pool (MaxPooling2D)      (None, 32, 32, 32)        0         \n",
      "_________________________________________________________________\n",
      "flatten_1 (Flatten)          (None, 32768)             0         \n",
      "_________________________________________________________________\n",
      "fc (Dense)                   (None, 1)                 32769     \n",
      "=================================================================\n",
      "Total params: 37,633\n",
      "Trainable params: 37,569\n",
      "Non-trainable params: 64\n",
      "_________________________________________________________________\n"
     ]
    }
   ],
   "source": [
    "happyModel.summary()"
   ]
  },
  {
   "cell_type": "code",
   "execution_count": 17,
   "id": "fb882c7b",
   "metadata": {},
   "outputs": [
    {
     "name": "stdout",
     "output_type": "stream",
     "text": [
      "Epoch 1/40\n",
      "10/10 [==============================] - 3s 218ms/step - loss: 3.4155 - accuracy: 0.5367\n",
      "Epoch 2/40\n",
      "10/10 [==============================] - 2s 221ms/step - loss: 1.1876 - accuracy: 0.6517\n",
      "Epoch 3/40\n",
      "10/10 [==============================] - 2s 207ms/step - loss: 0.4555 - accuracy: 0.8117\n",
      "Epoch 4/40\n",
      "10/10 [==============================] - 2s 227ms/step - loss: 0.2956 - accuracy: 0.8700\n",
      "Epoch 5/40\n",
      "10/10 [==============================] - 2s 206ms/step - loss: 0.2508 - accuracy: 0.8900\n",
      "Epoch 6/40\n",
      "10/10 [==============================] - 2s 210ms/step - loss: 0.1754 - accuracy: 0.9383\n",
      "Epoch 7/40\n",
      "10/10 [==============================] - 2s 209ms/step - loss: 0.1266 - accuracy: 0.9600\n",
      "Epoch 8/40\n",
      "10/10 [==============================] - 2s 199ms/step - loss: 0.1076 - accuracy: 0.9667\n",
      "Epoch 9/40\n",
      "10/10 [==============================] - 2s 201ms/step - loss: 0.0935 - accuracy: 0.9783\n",
      "Epoch 10/40\n",
      "10/10 [==============================] - 2s 207ms/step - loss: 0.0946 - accuracy: 0.9733\n",
      "Epoch 11/40\n",
      "10/10 [==============================] - 2s 212ms/step - loss: 0.0850 - accuracy: 0.9733\n",
      "Epoch 12/40\n",
      "10/10 [==============================] - 2s 205ms/step - loss: 0.0739 - accuracy: 0.9750\n",
      "Epoch 13/40\n",
      "10/10 [==============================] - 2s 203ms/step - loss: 0.0651 - accuracy: 0.9833\n",
      "Epoch 14/40\n",
      "10/10 [==============================] - 2s 206ms/step - loss: 0.0784 - accuracy: 0.9750\n",
      "Epoch 15/40\n",
      "10/10 [==============================] - 2s 215ms/step - loss: 0.0669 - accuracy: 0.9817\n",
      "Epoch 16/40\n",
      "10/10 [==============================] - 2s 202ms/step - loss: 0.0557 - accuracy: 0.9883\n",
      "Epoch 17/40\n",
      "10/10 [==============================] - 2s 216ms/step - loss: 0.0596 - accuracy: 0.9833\n",
      "Epoch 18/40\n",
      "10/10 [==============================] - 2s 206ms/step - loss: 0.0516 - accuracy: 0.9850\n",
      "Epoch 19/40\n",
      "10/10 [==============================] - 2s 209ms/step - loss: 0.0510 - accuracy: 0.9900\n",
      "Epoch 20/40\n",
      "10/10 [==============================] - 2s 204ms/step - loss: 0.0444 - accuracy: 0.9883\n",
      "Epoch 21/40\n",
      "10/10 [==============================] - 2s 208ms/step - loss: 0.0482 - accuracy: 0.9883\n",
      "Epoch 22/40\n",
      "10/10 [==============================] - 2s 206ms/step - loss: 0.0403 - accuracy: 0.9917\n",
      "Epoch 23/40\n",
      "10/10 [==============================] - 2s 207ms/step - loss: 0.0436 - accuracy: 0.9900\n",
      "Epoch 24/40\n",
      "10/10 [==============================] - 2s 209ms/step - loss: 0.0367 - accuracy: 0.9900\n",
      "Epoch 25/40\n",
      "10/10 [==============================] - 2s 208ms/step - loss: 0.0373 - accuracy: 0.9900\n",
      "Epoch 26/40\n",
      "10/10 [==============================] - 2s 208ms/step - loss: 0.0331 - accuracy: 0.9950\n",
      "Epoch 27/40\n",
      "10/10 [==============================] - 2s 207ms/step - loss: 0.0335 - accuracy: 0.9917\n",
      "Epoch 28/40\n",
      "10/10 [==============================] - 2s 206ms/step - loss: 0.0361 - accuracy: 0.9950\n",
      "Epoch 29/40\n",
      "10/10 [==============================] - 2s 204ms/step - loss: 0.0285 - accuracy: 0.9933\n",
      "Epoch 30/40\n",
      "10/10 [==============================] - 2s 206ms/step - loss: 0.0280 - accuracy: 0.9917\n",
      "Epoch 31/40\n",
      "10/10 [==============================] - 2s 207ms/step - loss: 0.0304 - accuracy: 0.9917\n",
      "Epoch 32/40\n",
      "10/10 [==============================] - 2s 207ms/step - loss: 0.0278 - accuracy: 0.9950\n",
      "Epoch 33/40\n",
      "10/10 [==============================] - 2s 209ms/step - loss: 0.0318 - accuracy: 0.9917\n",
      "Epoch 34/40\n",
      "10/10 [==============================] - 2s 207ms/step - loss: 0.0262 - accuracy: 0.9900\n",
      "Epoch 35/40\n",
      "10/10 [==============================] - 2s 204ms/step - loss: 0.0220 - accuracy: 0.9950\n",
      "Epoch 36/40\n",
      "10/10 [==============================] - 2s 206ms/step - loss: 0.0297 - accuracy: 0.9933\n",
      "Epoch 37/40\n",
      "10/10 [==============================] - 2s 209ms/step - loss: 0.0358 - accuracy: 0.9900\n",
      "Epoch 38/40\n",
      "10/10 [==============================] - 2s 207ms/step - loss: 0.0287 - accuracy: 0.9900\n",
      "Epoch 39/40\n",
      "10/10 [==============================] - 2s 207ms/step - loss: 0.0176 - accuracy: 0.9950\n",
      "Epoch 40/40\n",
      "10/10 [==============================] - 2s 205ms/step - loss: 0.0192 - accuracy: 0.9950\n"
     ]
    },
    {
     "data": {
      "text/plain": [
       "<tensorflow.python.keras.callbacks.History at 0x280db9dea60>"
      ]
     },
     "execution_count": 17,
     "metadata": {},
     "output_type": "execute_result"
    }
   ],
   "source": [
    "happyModel.fit(x = X_train, y = Y_train, epochs = 40, batch_size = 64)"
   ]
  },
  {
   "cell_type": "code",
   "execution_count": 18,
   "id": "6528c4e9",
   "metadata": {},
   "outputs": [
    {
     "name": "stdout",
     "output_type": "stream",
     "text": [
      "5/5 [==============================] - 1s 43ms/step - loss: 0.1296 - accuracy: 0.9733\n",
      "\n",
      "Loss = 0.12957708537578583\n",
      "Test Accuracy = 0.9733333587646484\n"
     ]
    }
   ],
   "source": [
    "preds = happyModel.evaluate(x = X_test, y = Y_test)\n",
    "print()\n",
    "print (\"Loss = \" + str(preds[0]))\n",
    "print (\"Test Accuracy = \" + str(preds[1]))"
   ]
  },
  {
   "cell_type": "code",
   "execution_count": 19,
   "id": "48597130",
   "metadata": {},
   "outputs": [
    {
     "name": "stdout",
     "output_type": "stream",
     "text": [
      "[[1.]]\n"
     ]
    },
    {
     "data": {
      "image/png": "[encoded data removed]",
      "text/plain": [
       "<Figure size 432x288 with 1 Axes>"
      ]
     },
     "metadata": {
      "needs_background": "light"
     },
     "output_type": "display_data"
    }
   ],
   "source": [
    "img_path = 'images/happyface.jpg'\n",
    "img = image.load_img(img_path, target_size=(64, 64))\n",
    "imshow(img)\n",
    "x = image.img_to_array(img)\n",
    "x = np.expand_dims(x, axis=0)\n",
    "x = preprocess_input(x)\n",
    "print(happyModel.predict(x))"
   ]
  },
  {
   "cell_type": "code",
   "execution_count": 20,
   "id": "27a28a4b",
   "metadata": {},
   "outputs": [
    {
     "name": "stdout",
     "output_type": "stream",
     "text": [
      "[[1.]]\n"
     ]
    },
    {
     "data": {
      "image/png": "[encoded data removed]",
      "text/plain": [
       "<Figure size 432x288 with 1 Axes>"
      ]
     },
     "metadata": {
      "needs_background": "light"
     },
     "output_type": "display_data"
    }
   ],
   "source": [
    "img_path = 'images/happyface2.jpg'\n",
    "img = image.load_img(img_path, target_size=(64, 64))\n",
    "imshow(img)\n",
    "x = image.img_to_array(img)\n",
    "x = np.expand_dims(x, axis=0)\n",
    "x = preprocess_input(x)\n",
    "print(happyModel.predict(x))"
   ]
  },
  {
   "cell_type": "code",
   "execution_count": 22,
   "id": "3c71661b",
   "metadata": {},
   "outputs": [
    {
     "data": {
      "image/svg+xml": [
       "<svg xmlns=\"http://www.w3.org/2000/svg\" xmlns:xlink=\"http://www.w3.org/1999/xlink\" width=\"300pt\" height=\"741pt\" viewBox=\"0.00 0.00 225.00 556.00\">\n",
       "<g id=\"graph0\" class=\"graph\" transform=\"scale(1.33 1.33) rotate(0) translate(4 552)\">\n",
       "<title>G</title>\n",
       "<polygon fill=\"white\" stroke=\"transparent\" points=\"-4,4 -4,-552 221,-552 221,4 -4,4\"/>\n",
       "<!-- 2752619940352 -->\n",
       "<g id=\"node1\" class=\"node\">\n",
       "<title>2752619940352</title>\n",
       "<polygon fill=\"none\" stroke=\"black\" points=\"45.5,-511.5 45.5,-547.5 171.5,-547.5 171.5,-511.5 45.5,-511.5\"/>\n",
       "<text text-anchor=\"middle\" x=\"108.5\" y=\"-525.8\" font-family=\"Times New Roman,serif\" font-size=\"14.00\">input_2: InputLayer</text>\n",
       "</g>\n",
       "<!-- 2752619941600 -->\n",
       "<g id=\"node2\" class=\"node\">\n",
       "<title>2752619941600</title>\n",
       "<polygon fill=\"none\" stroke=\"black\" points=\"0,-438.5 0,-474.5 217,-474.5 217,-438.5 0,-438.5\"/>\n",
       "<text text-anchor=\"middle\" x=\"108.5\" y=\"-452.8\" font-family=\"Times New Roman,serif\" font-size=\"14.00\">zero_padding2d_1: ZeroPadding2D</text>\n",
       "</g>\n",
       "<!-- 2752619940352&#45;&gt;2752619941600 -->\n",
       "<g id=\"edge1\" class=\"edge\">\n",
       "<title>2752619940352-&gt;2752619941600</title>\n",
       "<path fill=\"none\" stroke=\"black\" d=\"M108.5,-511.31C108.5,-503.29 108.5,-493.55 108.5,-484.57\"/>\n",
       "<polygon fill=\"black\" stroke=\"black\" points=\"112,-484.53 108.5,-474.53 105,-484.53 112,-484.53\"/>\n",
       "</g>\n",
       "<!-- 2752619939200 -->\n",
       "<g id=\"node3\" class=\"node\">\n",
       "<title>2752619939200</title>\n",
       "<polygon fill=\"none\" stroke=\"black\" points=\"56,-365.5 56,-401.5 161,-401.5 161,-365.5 56,-365.5\"/>\n",
       "<text text-anchor=\"middle\" x=\"108.5\" y=\"-379.8\" font-family=\"Times New Roman,serif\" font-size=\"14.00\">conv0: Conv2D</text>\n",
       "</g>\n",
       "<!-- 2752619941600&#45;&gt;2752619939200 -->\n",
       "<g id=\"edge2\" class=\"edge\">\n",
       "<title>2752619941600-&gt;2752619939200</title>\n",
       "<path fill=\"none\" stroke=\"black\" d=\"M108.5,-438.31C108.5,-430.29 108.5,-420.55 108.5,-411.57\"/>\n",
       "<polygon fill=\"black\" stroke=\"black\" points=\"112,-411.53 108.5,-401.53 105,-411.53 112,-411.53\"/>\n",
       "</g>\n",
       "<!-- 2752619845040 -->\n",
       "<g id=\"node4\" class=\"node\">\n",
       "<title>2752619845040</title>\n",
       "<polygon fill=\"none\" stroke=\"black\" points=\"31.5,-292.5 31.5,-328.5 185.5,-328.5 185.5,-292.5 31.5,-292.5\"/>\n",
       "<text text-anchor=\"middle\" x=\"108.5\" y=\"-306.8\" font-family=\"Times New Roman,serif\" font-size=\"14.00\">bn0: BatchNormalization</text>\n",
       "</g>\n",
       "<!-- 2752619939200&#45;&gt;2752619845040 -->\n",
       "<g id=\"edge3\" class=\"edge\">\n",
       "<title>2752619939200-&gt;2752619845040</title>\n",
       "<path fill=\"none\" stroke=\"black\" d=\"M108.5,-365.31C108.5,-357.29 108.5,-347.55 108.5,-338.57\"/>\n",
       "<polygon fill=\"black\" stroke=\"black\" points=\"112,-338.53 108.5,-328.53 105,-338.53 112,-338.53\"/>\n",
       "</g>\n",
       "<!-- 2752619938672 -->\n",
       "<g id=\"node5\" class=\"node\">\n",
       "<title>2752619938672</title>\n",
       "<polygon fill=\"none\" stroke=\"black\" points=\"34.5,-219.5 34.5,-255.5 182.5,-255.5 182.5,-219.5 34.5,-219.5\"/>\n",
       "<text text-anchor=\"middle\" x=\"108.5\" y=\"-233.8\" font-family=\"Times New Roman,serif\" font-size=\"14.00\">activation_1: Activation</text>\n",
       "</g>\n",
       "<!-- 2752619845040&#45;&gt;2752619938672 -->\n",
       "<g id=\"edge4\" class=\"edge\">\n",
       "<title>2752619845040-&gt;2752619938672</title>\n",
       "<path fill=\"none\" stroke=\"black\" d=\"M108.5,-292.31C108.5,-284.29 108.5,-274.55 108.5,-265.57\"/>\n",
       "<polygon fill=\"black\" stroke=\"black\" points=\"112,-265.53 108.5,-255.53 105,-265.53 112,-265.53\"/>\n",
       "</g>\n",
       "<!-- 2752620162688 -->\n",
       "<g id=\"node6\" class=\"node\">\n",
       "<title>2752620162688</title>\n",
       "<polygon fill=\"none\" stroke=\"black\" points=\"26.5,-146.5 26.5,-182.5 190.5,-182.5 190.5,-146.5 26.5,-146.5\"/>\n",
       "<text text-anchor=\"middle\" x=\"108.5\" y=\"-160.8\" font-family=\"Times New Roman,serif\" font-size=\"14.00\">max_pool: MaxPooling2D</text>\n",
       "</g>\n",
       "<!-- 2752619938672&#45;&gt;2752620162688 -->\n",
       "<g id=\"edge5\" class=\"edge\">\n",
       "<title>2752619938672-&gt;2752620162688</title>\n",
       "<path fill=\"none\" stroke=\"black\" d=\"M108.5,-219.31C108.5,-211.29 108.5,-201.55 108.5,-192.57\"/>\n",
       "<polygon fill=\"black\" stroke=\"black\" points=\"112,-192.53 108.5,-182.53 105,-192.53 112,-192.53\"/>\n",
       "</g>\n",
       "<!-- 2752634419664 -->\n",
       "<g id=\"node7\" class=\"node\">\n",
       "<title>2752634419664</title>\n",
       "<polygon fill=\"none\" stroke=\"black\" points=\"54,-73.5 54,-109.5 163,-109.5 163,-73.5 54,-73.5\"/>\n",
       "<text text-anchor=\"middle\" x=\"108.5\" y=\"-87.8\" font-family=\"Times New Roman,serif\" font-size=\"14.00\">flatten_1: Flatten</text>\n",
       "</g>\n",
       "<!-- 2752620162688&#45;&gt;2752634419664 -->\n",
       "<g id=\"edge6\" class=\"edge\">\n",
       "<title>2752620162688-&gt;2752634419664</title>\n",
       "<path fill=\"none\" stroke=\"black\" d=\"M108.5,-146.31C108.5,-138.29 108.5,-128.55 108.5,-119.57\"/>\n",
       "<polygon fill=\"black\" stroke=\"black\" points=\"112,-119.53 108.5,-109.53 105,-119.53 112,-119.53\"/>\n",
       "</g>\n",
       "<!-- 2752620714928 -->\n",
       "<g id=\"node8\" class=\"node\">\n",
       "<title>2752620714928</title>\n",
       "<polygon fill=\"none\" stroke=\"black\" points=\"74,-0.5 74,-36.5 143,-36.5 143,-0.5 74,-0.5\"/>\n",
       "<text text-anchor=\"middle\" x=\"108.5\" y=\"-14.8\" font-family=\"Times New Roman,serif\" font-size=\"14.00\">fc: Dense</text>\n",
       "</g>\n",
       "<!-- 2752634419664&#45;&gt;2752620714928 -->\n",
       "<g id=\"edge7\" class=\"edge\">\n",
       "<title>2752634419664-&gt;2752620714928</title>\n",
       "<path fill=\"none\" stroke=\"black\" d=\"M108.5,-73.31C108.5,-65.29 108.5,-55.55 108.5,-46.57\"/>\n",
       "<polygon fill=\"black\" stroke=\"black\" points=\"112,-46.53 108.5,-36.53 105,-46.53 112,-46.53\"/>\n",
       "</g>\n",
       "</g>\n",
       "</svg>"
      ],
      "text/plain": [
       "<IPython.core.display.SVG object>"
      ]
     },
     "execution_count": 22,
     "metadata": {},
     "output_type": "execute_result"
    }
   ],
   "source": [
    "plot_model(happyModel, to_file='HappyModel.png')\n",
    "SVG(model_to_dot(happyModel).create(prog='dot', format='svg'))"
   ]
  },
  {
   "cell_type": "code",
   "execution_count": null,
   "id": "6b2a5933",
   "metadata": {},
   "outputs": [],
   "source": []
  }
 ],
 "metadata": {
  "kernelspec": {
   "display_name": "Python 3",
   "language": "python",
   "name": "python3"
  },
  "language_info": {
   "codemirror_mode": {
    "name": "ipython",
    "version": 3
   },
   "file_extension": ".py",
   "mimetype": "text/x-python",
   "name": "python",
   "nbconvert_exporter": "python",
   "pygments_lexer": "ipython3",
   "version": "3.9.5"
  }
 },
 "nbformat": 4,
 "nbformat_minor": 5
}
